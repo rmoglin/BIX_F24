{
  "cells": [
    {
      "cell_type": "markdown",
      "metadata": {
        "id": "view-in-github",
        "colab_type": "text"
      },
      "source": [
        "<a href=\"https://colab.research.google.com/github/rmoglin/BIX_F24/blob/main/Moglin_lab2_chemotaxis.ipynb\" target=\"_parent\"><img src=\"https://colab.research.google.com/assets/colab-badge.svg\" alt=\"Open In Colab\"/></a>"
      ]
    },
    {
      "cell_type": "markdown",
      "metadata": {
        "id": "sHIeLwWce4tw"
      },
      "source": [
        "# Lab 2 - Simple Chemotaxis\n",
        "\n",
        "This lab is designed to get you familiar with the basics of chemotaxis like that performed by bacteria, specifically _e. coli_.  \n",
        "\n",
        "We will compare our random agent from Lab 1 (Rando) with a gradient searcher who operates akin to a simple bacteria agent. We'll call this agent Chemo.\n",
        "\n",
        "There are three goals here.\n",
        "\n",
        "1. Extrapolate on scent signals and gradients.\n",
        "2. Examine exploration for targets with a variable scent in an open field.\n",
        "3. Compare simple chemotaxis, with a Levy-walk structure, to Brownian motion."
      ]
    },
    {
      "cell_type": "markdown",
      "metadata": {
        "id": "KNr4qUoAfTlH"
      },
      "source": [
        "## Background\n",
        "\n",
        "In this lab we return to _taxic explorations_. We visit the sniff world (aka _ScentGrid_) and at what happens when sense signals are noisy.\n"
      ]
    },
    {
      "cell_type": "markdown",
      "metadata": {
        "id": "x42GmIbGxVWx"
      },
      "source": [
        "**Structured randomness and basic chemotaxis**\n",
        "\n",
        "In lab 1 we played with a random search agent that wandered using Brownian motion. Here we will introuce a new random agent that moves according to Levy walks.\n",
        "\n",
        "* A Levy walk is a continuing process of random movement where at each \"step\" of movement, a direction of and distance of movement is chosen randomly. The distance $\\delta_i$ of movement at each time step $i$ is sampled from the random distribution as follows: $\\delta_i = {u_i}^{-\\frac{1}{\\gamma}}$, where $u_i \\sim N(\\mu,\\sigma)$ and $\\gamma > 1$.\n",
        "\n",
        "Our _chemotaxis_ agent (_GradientDiffusionGrid_) tries to directly estimate the gradient of the scent $\\nabla S$  by comparing the level of scent at the last grid position it occupied to the current scent level ($s$). By last position here we mean the last position when it moved last.\n",
        "\n",
        "$$\\nabla S \\approx s_t - s_{t-1}$$\n",
        "\n",
        "Our chemotaxis agent thus behaves as follows:\n",
        "\n",
        "- When the gradient is positive, meaning you are going \"up\" the gradient, the probabilty of changing course and doing a tumble is set to _p pos_.\n",
        "- When the gradient is negative, the probability of a doing a tumble is set to _p neg_. (See code below, for an example).\n",
        "- If the agent \"decides\" to tumble, the direction it takes is uniform random.\n",
        "- If no tumble is decided, the agent keeps moving in the direciton it was going before.\n",
        "- The length of travel now is just a single step on the grid. This makes our decision problem a lot simpler. Basically this is equivalent to making the diffusion parameter, $D$, consistent across experiments.\n"
      ]
    },
    {
      "cell_type": "markdown",
      "metadata": {
        "id": "9GbUZLcmhC87"
      },
      "source": [
        "## Section 0 - Setup"
      ]
    },
    {
      "cell_type": "markdown",
      "metadata": {
        "id": "eAVJYYdhhKSL"
      },
      "source": [
        "First let's set things up for the two parts of the lab. You've done this before, so we don't need to specify each installation and module step."
      ]
    },
    {
      "cell_type": "code",
      "execution_count": 3,
      "metadata": {
        "id": "GaM7UFV6yKE1",
        "outputId": "5ee817f5-dccb-4779-be38-a404335adbfc",
        "colab": {
          "base_uri": "https://localhost:8080/"
        }
      },
      "outputs": [
        {
          "output_type": "stream",
          "name": "stdout",
          "text": [
            "Collecting git+https://github.com/coaxlab/explorationlib\n",
            "  Cloning https://github.com/coaxlab/explorationlib to /tmp/pip-req-build-zbtuocm6\n",
            "  Running command git clone --filter=blob:none --quiet https://github.com/coaxlab/explorationlib /tmp/pip-req-build-zbtuocm6\n",
            "  Resolved https://github.com/coaxlab/explorationlib to commit 1370823ba06ddf3a3b14929e3de0cb4d16b7ce49\n",
            "  Preparing metadata (setup.py) ... \u001b[?25l\u001b[?25hdone\n",
            "Requirement already satisfied: numpy in /usr/local/lib/python3.10/dist-packages (from explorationlib==0.0.1) (1.26.4)\n",
            "Requirement already satisfied: scipy in /usr/local/lib/python3.10/dist-packages (from explorationlib==0.0.1) (1.13.1)\n",
            "Requirement already satisfied: pandas in /usr/local/lib/python3.10/dist-packages (from explorationlib==0.0.1) (2.1.4)\n",
            "Requirement already satisfied: matplotlib in /usr/local/lib/python3.10/dist-packages (from explorationlib==0.0.1) (3.7.1)\n",
            "Requirement already satisfied: seaborn in /usr/local/lib/python3.10/dist-packages (from explorationlib==0.0.1) (0.13.1)\n",
            "Requirement already satisfied: scikit-learn in /usr/local/lib/python3.10/dist-packages (from explorationlib==0.0.1) (1.3.2)\n",
            "Requirement already satisfied: numba in /usr/local/lib/python3.10/dist-packages (from explorationlib==0.0.1) (0.60.0)\n",
            "Requirement already satisfied: future in /usr/local/lib/python3.10/dist-packages (from explorationlib==0.0.1) (1.0.0)\n",
            "Requirement already satisfied: contourpy>=1.0.1 in /usr/local/lib/python3.10/dist-packages (from matplotlib->explorationlib==0.0.1) (1.3.0)\n",
            "Requirement already satisfied: cycler>=0.10 in /usr/local/lib/python3.10/dist-packages (from matplotlib->explorationlib==0.0.1) (0.12.1)\n",
            "Requirement already satisfied: fonttools>=4.22.0 in /usr/local/lib/python3.10/dist-packages (from matplotlib->explorationlib==0.0.1) (4.53.1)\n",
            "Requirement already satisfied: kiwisolver>=1.0.1 in /usr/local/lib/python3.10/dist-packages (from matplotlib->explorationlib==0.0.1) (1.4.7)\n",
            "Requirement already satisfied: packaging>=20.0 in /usr/local/lib/python3.10/dist-packages (from matplotlib->explorationlib==0.0.1) (24.1)\n",
            "Requirement already satisfied: pillow>=6.2.0 in /usr/local/lib/python3.10/dist-packages (from matplotlib->explorationlib==0.0.1) (9.4.0)\n",
            "Requirement already satisfied: pyparsing>=2.3.1 in /usr/local/lib/python3.10/dist-packages (from matplotlib->explorationlib==0.0.1) (3.1.4)\n",
            "Requirement already satisfied: python-dateutil>=2.7 in /usr/local/lib/python3.10/dist-packages (from matplotlib->explorationlib==0.0.1) (2.8.2)\n",
            "Requirement already satisfied: llvmlite<0.44,>=0.43.0dev0 in /usr/local/lib/python3.10/dist-packages (from numba->explorationlib==0.0.1) (0.43.0)\n",
            "Requirement already satisfied: pytz>=2020.1 in /usr/local/lib/python3.10/dist-packages (from pandas->explorationlib==0.0.1) (2024.2)\n",
            "Requirement already satisfied: tzdata>=2022.1 in /usr/local/lib/python3.10/dist-packages (from pandas->explorationlib==0.0.1) (2024.1)\n",
            "Requirement already satisfied: joblib>=1.1.1 in /usr/local/lib/python3.10/dist-packages (from scikit-learn->explorationlib==0.0.1) (1.4.2)\n",
            "Requirement already satisfied: threadpoolctl>=2.0.0 in /usr/local/lib/python3.10/dist-packages (from scikit-learn->explorationlib==0.0.1) (3.5.0)\n",
            "Requirement already satisfied: six>=1.5 in /usr/local/lib/python3.10/dist-packages (from python-dateutil>=2.7->matplotlib->explorationlib==0.0.1) (1.16.0)\n",
            "Building wheels for collected packages: explorationlib\n",
            "  Building wheel for explorationlib (setup.py) ... \u001b[?25l\u001b[?25hdone\n",
            "  Created wheel for explorationlib: filename=explorationlib-0.0.1-py3-none-any.whl size=42722 sha256=c5ce80d91d2159f4eb4be26cdcc7991525e4226d52d941653455f1814dc74c86\n",
            "  Stored in directory: /tmp/pip-ephem-wheel-cache-oedcx9x9/wheels/71/57/e8/88c93e85ce02efaef024038b2ddcb6c6dec8a1a212f712bb05\n",
            "Successfully built explorationlib\n",
            "Installing collected packages: explorationlib\n",
            "Successfully installed explorationlib-0.0.1\n",
            "Collecting git+https://github.com/MattChanTK/gym-maze.git\n",
            "  Cloning https://github.com/MattChanTK/gym-maze.git to /tmp/pip-req-build-mkfq2mms\n",
            "  Running command git clone --filter=blob:none --quiet https://github.com/MattChanTK/gym-maze.git /tmp/pip-req-build-mkfq2mms\n",
            "  Resolved https://github.com/MattChanTK/gym-maze.git to commit 83176811b49b5538a6213520612f44fb1bc49114\n",
            "  Preparing metadata (setup.py) ... \u001b[?25l\u001b[?25hdone\n",
            "Requirement already satisfied: gym in /usr/local/lib/python3.10/dist-packages (from gym_maze==0.4) (0.25.2)\n",
            "Requirement already satisfied: pygame in /usr/local/lib/python3.10/dist-packages (from gym_maze==0.4) (2.6.0)\n",
            "Requirement already satisfied: numpy in /usr/local/lib/python3.10/dist-packages (from gym_maze==0.4) (1.26.4)\n",
            "Requirement already satisfied: cloudpickle>=1.2.0 in /usr/local/lib/python3.10/dist-packages (from gym->gym_maze==0.4) (2.2.1)\n",
            "Requirement already satisfied: gym-notices>=0.0.4 in /usr/local/lib/python3.10/dist-packages (from gym->gym_maze==0.4) (0.0.8)\n",
            "Building wheels for collected packages: gym_maze\n",
            "  Building wheel for gym_maze (setup.py) ... \u001b[?25l\u001b[?25hdone\n",
            "  Created wheel for gym_maze: filename=gym_maze-0.4-py3-none-any.whl size=14219 sha256=cd5a4a20607c8f9f8cf141b6126e55d659a06632402e9fecdbe912d4bb89e7a8\n",
            "  Stored in directory: /tmp/pip-ephem-wheel-cache-vdps6y7j/wheels/b0/53/2e/e282706624110bc964538d7840bef68fef2bc1865a87e3016e\n",
            "Successfully built gym_maze\n",
            "Installing collected packages: gym_maze\n",
            "Successfully installed gym_maze-0.4\n"
          ]
        }
      ],
      "source": [
        "!pip install --upgrade git+https://github.com/coaxlab/explorationlib\n",
        "!pip install --upgrade git+https://github.com/MattChanTK/gym-maze.git"
      ]
    },
    {
      "cell_type": "code",
      "execution_count": 4,
      "metadata": {
        "id": "zI0CIEceyQx4"
      },
      "outputs": [],
      "source": [
        "import shutil\n",
        "import glob\n",
        "import os\n",
        "\n",
        "import numpy as np\n",
        "import pandas as pd\n",
        "import seaborn as sns\n",
        "import matplotlib.pyplot as plt\n",
        "from copy import deepcopy\n",
        "\n",
        "import explorationlib\n",
        "from explorationlib.local_gym import ScentGrid\n",
        "\n",
        "from explorationlib.agent import DiffusionGrid\n",
        "from explorationlib.agent import GradientDiffusionGrid\n",
        "\n",
        "\n",
        "from explorationlib.run import experiment\n",
        "from explorationlib.util import select_exp\n",
        "from explorationlib.util import load\n",
        "from explorationlib.util import save\n",
        "\n",
        "from explorationlib.local_gym import uniform_targets\n",
        "from explorationlib.local_gym import constant_values\n",
        "from explorationlib.local_gym import ScentGrid\n",
        "from explorationlib.local_gym import create_grid_scent\n",
        "from explorationlib.local_gym import add_noise\n",
        "from explorationlib.local_gym import create_grid_scent_patches\n",
        "\n",
        "from explorationlib.plot import plot_position2d\n",
        "from explorationlib.plot import plot_length_hist\n",
        "from explorationlib.plot import plot_length\n",
        "from explorationlib.plot import plot_targets2d\n",
        "from explorationlib.plot import plot_scent_grid\n",
        "from explorationlib.plot import plot_targets2d\n",
        "\n",
        "from explorationlib.score import total_reward\n",
        "from explorationlib.score import num_death"
      ]
    },
    {
      "cell_type": "code",
      "execution_count": 5,
      "metadata": {
        "id": "KQbjVvs6p1Zz"
      },
      "outputs": [],
      "source": [
        "# Pretty plots\n",
        "%matplotlib inline\n",
        "%config InlineBackend.figure_format='retina'\n",
        "%config IPCompleter.greedy=True\n",
        "plt.rcParams[\"axes.facecolor\"] = \"white\"\n",
        "plt.rcParams[\"figure.facecolor\"] = \"white\"\n",
        "plt.rcParams[\"font.size\"] = \"16\"\n",
        "\n",
        "# Dev\n",
        "%load_ext autoreload\n",
        "%autoreload 2"
      ]
    },
    {
      "cell_type": "markdown",
      "metadata": {
        "id": "sMxnPUlZzSN9"
      },
      "source": [
        "## Section 1 - Simulating noisy scents"
      ]
    },
    {
      "cell_type": "markdown",
      "metadata": {
        "id": "U5WQC2m1hnO0"
      },
      "source": [
        "To build some intuition, let's plot the \"scent\" emitted by a single target."
      ]
    },
    {
      "cell_type": "markdown",
      "metadata": {
        "id": "vJJ1HiR6h1Op"
      },
      "source": [
        "### Full Scent\n",
        "\n",
        "Okay, let's first visualize what the scent diffusion around each target looks like in the environment using the diffusion parameters we have set up."
      ]
    },
    {
      "cell_type": "code",
      "execution_count": 6,
      "metadata": {
        "id": "0fHcLlNpylrM"
      },
      "outputs": [],
      "source": [
        "target_boundary = (10, 10)"
      ]
    },
    {
      "cell_type": "code",
      "execution_count": 7,
      "metadata": {
        "id": "C-I19zVNymDT",
        "outputId": "7cd3f907-0a13-4c6d-e6e6-0bc7162f0573",
        "colab": {
          "base_uri": "https://localhost:8080/",
          "height": 455
        }
      },
      "outputs": [
        {
          "output_type": "execute_result",
          "data": {
            "text/plain": [
              "<matplotlib.image.AxesImage at 0x7d585aa6f9d0>"
            ]
          },
          "metadata": {},
          "execution_count": 7
        },
        {
          "output_type": "display_data",
          "data": {
            "text/plain": [
              "<Figure size 640x480 with 1 Axes>"
            ],
            "image/png": "[encoded data removed]"
          },
          "metadata": {
            "image/png": {
              "width": 448,
              "height": 420
            }
          }
        }
      ],
      "source": [
        "coord, scent = create_grid_scent_patches(\n",
        "        target_boundary, p=1.0, sigma=2)\n",
        "\n",
        "plt.imshow(scent, interpolation=None)"
      ]
    },
    {
      "cell_type": "markdown",
      "metadata": {
        "id": "xeoYEn00zmqx"
      },
      "source": [
        "### Noisy Scent\n",
        "\n",
        "To corrupt the signal we can simply add more Gaussian noise. In this case we will use the *add_noise* function with a $\\sigma=1$."
      ]
    },
    {
      "cell_type": "code",
      "execution_count": 8,
      "metadata": {
        "id": "e6R0SV4Jyr2a",
        "outputId": "41ddc9b8-892c-4155-f41e-9f328afc7ccf",
        "colab": {
          "base_uri": "https://localhost:8080/",
          "height": 455
        }
      },
      "outputs": [
        {
          "output_type": "execute_result",
          "data": {
            "text/plain": [
              "<matplotlib.image.AxesImage at 0x7d585a9e8cd0>"
            ]
          },
          "metadata": {},
          "execution_count": 8
        },
        {
          "output_type": "display_data",
          "data": {
            "text/plain": [
              "<Figure size 640x480 with 1 Axes>"
            ],
            "image/png": "[encoded data removed]"
          },
          "metadata": {
            "image/png": {
              "width": 448,
              "height": 420
            }
          }
        }
      ],
      "source": [
        "noise_sigma = 10.0\n",
        "\n",
        "coord, scent = create_grid_scent_patches(target_boundary, p=1.0, sigma=2)\n",
        "scent = add_noise(scent, noise_sigma)\n",
        "\n",
        "plt.imshow(scent, interpolation=None)"
      ]
    },
    {
      "cell_type": "markdown",
      "metadata": {
        "id": "Zw1sOYGFilfl"
      },
      "source": [
        "Doesn't look resolvable does it? If you squint, maybe you can see it?\n",
        "\n",
        "In order to confirm that there is signal there, let's take a look at the average over 100 noisy targets."
      ]
    },
    {
      "cell_type": "code",
      "execution_count": 14,
      "metadata": {
        "id": "zPYe-pb5p1Z1",
        "outputId": "2fe17011-15f1-40b1-e2a0-82c6ac7c6bba",
        "colab": {
          "base_uri": "https://localhost:8080/",
          "height": 455
        }
      },
      "outputs": [
        {
          "output_type": "execute_result",
          "data": {
            "text/plain": [
              "<matplotlib.image.AxesImage at 0x7d58586a5c30>"
            ]
          },
          "metadata": {},
          "execution_count": 14
        },
        {
          "output_type": "display_data",
          "data": {
            "text/plain": [
              "<Figure size 640x480 with 1 Axes>"
            ],
            "image/png": "[encoded data removed]"
          },
          "metadata": {
            "image/png": {
              "width": 448,
              "height": 420
            }
          }
        }
      ],
      "source": [
        "amplitude = 1\n",
        "noise_sigma = 10\n",
        "num_samples = 1000\n",
        "\n",
        "scents = []\n",
        "for _ in range(num_samples):\n",
        "    coord, scent = create_grid_scent_patches(target_boundary, p=1.0, sigma=1)\n",
        "    scent = add_noise(scent, noise_sigma)\n",
        "    scents.append(deepcopy(scent))\n",
        "\n",
        "scent = np.sum(scents, axis=0)\n",
        "\n",
        "plt.imshow(scent, interpolation=None)"
      ]
    },
    {
      "cell_type": "markdown",
      "metadata": {
        "id": "Zv0unH1ZkJxG"
      },
      "source": [
        "So, pretty noisy but resolvable."
      ]
    },
    {
      "cell_type": "markdown",
      "metadata": {
        "id": "bDeWuSfGkM8G"
      },
      "source": [
        "---\n",
        "### Question 1.1\n",
        "\n",
        "Adding noise and lowering detection probability both act to increase distortion to the signal channel that will be used by our agents. Will this help or hinder the agents that use sensory signals and/or information to drive their decisions? Explain your answer."
      ]
    },
    {
      "cell_type": "markdown",
      "source": [
        "__Answer:__\n",
        "\n",
        "adding noise will hinder. The increased noise distorts the signals, this makes it harder for the agents to detect gradients."
      ],
      "metadata": {
        "id": "GqDUN_8vIVq1"
      }
    },
    {
      "cell_type": "code",
      "source": [],
      "metadata": {
        "id": "Y6KSLa0NOWrf"
      },
      "execution_count": null,
      "outputs": []
    },
    {
      "cell_type": "markdown",
      "metadata": {
        "id": "Hri_qayrlN2C"
      },
      "source": [
        "---\n",
        "### Question 1.2\n",
        "\n",
        "Re-run the simulations above, playing with both of the *noise_sigma* term, ranging from 1 to 10. What are the values for each parameter that lead to a complete loss in the scent signal even when averaging across 1000 samples?"
      ]
    },
    {
      "cell_type": "markdown",
      "source": [
        "__Answer:__\n",
        "\n",
        "Higher values will result in the compelte loss in signal becuase the noise will overpower the scent gradient. When I put in 10 for both terms, the gradient turned to just noise."
      ],
      "metadata": {
        "id": "riLI26GeIcsL"
      }
    },
    {
      "cell_type": "markdown",
      "metadata": {
        "id": "JnKyN9oM0GTm"
      },
      "source": [
        "## Section 2 - Using Basic Sensory Evidence To Explore"
      ]
    },
    {
      "cell_type": "markdown",
      "metadata": {
        "id": "IpB4JhugmNJE"
      },
      "source": [
        "\n",
        "In this section we take on the simplest form of sensory tracking: whether or not a chemical gradient is increasing or decreasing.\n",
        "\n",
        "We start by setting up our basic environment."
      ]
    },
    {
      "cell_type": "code",
      "execution_count": 15,
      "metadata": {
        "id": "StauX74y0QjT"
      },
      "outputs": [],
      "source": [
        "# Noise scents\n",
        "noise_sigma = 2 # We'll make it pretty noisy\n",
        "\n",
        "# Shared\n",
        "num_experiments = 100\n",
        "num_steps = 500\n",
        "seed_value = 5838\n",
        "\n",
        "# ! (leave alone)\n",
        "min_length = 1\n",
        "num_targets = 50\n",
        "target_boundary = (40, 40)\n",
        "\n",
        "# Targets\n",
        "prng = np.random.RandomState(seed_value)\n",
        "targets = uniform_targets(num_targets, target_boundary, prng=prng)\n",
        "values = constant_values(targets, 1)\n",
        "\n",
        "# Scents\n",
        "scents = []\n",
        "for _ in range(len(targets)):\n",
        "    coord, scent = create_grid_scent_patches(\n",
        "        target_boundary, p=1.0, amplitude=1, sigma=2)\n",
        "    scents.append(scent)\n",
        "\n",
        "# Env\n",
        "env = ScentGrid(mode=None)\n",
        "env.seed(seed_value)\n",
        "env.add_scents(targets, values, coord, scents, noise_sigma=noise_sigma)"
      ]
    },
    {
      "cell_type": "markdown",
      "metadata": {
        "id": "ip-6AMyMmzjk"
      },
      "source": [
        "Again we are working a scent grid environment where each target emits noisy chemical signals (scents) according to our definitions above.\n",
        "\n",
        "We will want the environment to be relatively sparse, to make the task somewhat difficult. Thus we will only generate 25 targets in a big open field.\n",
        "\n",
        "Here's an example of our environment"
      ]
    },
    {
      "cell_type": "code",
      "execution_count": 16,
      "metadata": {
        "id": "4xKn5Oog3HB8",
        "outputId": "7203399e-1b1d-4c63-c4bb-bf3a4cd590ed",
        "colab": {
          "base_uri": "https://localhost:8080/",
          "height": 334
        }
      },
      "outputs": [
        {
          "output_type": "display_data",
          "data": {
            "text/plain": [
              "<Figure size 300x300 with 1 Axes>"
            ],
            "image/png": "[encoded data removed]"
          },
          "metadata": {
            "image/png": {
              "width": 507,
              "height": 317
            }
          }
        }
      ],
      "source": [
        "plot_boundary = target_boundary\n",
        "ax = None\n",
        "ax = plot_targets2d(\n",
        "    env,\n",
        "    boundary=plot_boundary,\n",
        "    color=\"black\",\n",
        "    alpha=1,\n",
        "    label=\"Targets\",\n",
        "    ax=ax,\n",
        ")"
      ]
    },
    {
      "cell_type": "markdown",
      "metadata": {
        "id": "4SRoMBksnAML"
      },
      "source": [
        "We will use 2 agents in these sims:\n",
        "\n",
        "- Rando: Uses random Brownian motion search.\n",
        "- Chemo: Uses only the detected scent gradient to make a decision as to whether or not to tumble.\n",
        "\n",
        "How do these agents work? Check the explorationlib code for details.\n",
        "\n",
        "* In the left panel on Colab, click on the file icon to access the file view for your Colab notebook.\n",
        "* Click the \"..\" file to go up one level (if necessary) and then navigate to `/usr/local/lib/python3.XX/dist-packages/explorationlib/agent.py` and double click the file (or just click the link in this bullet) to open up the library's code for defining exploration agents.\n",
        "* Find the _DiffusionGrid_ and _GradientDiffusionGrid_ functions to see how they are implemented."
      ]
    },
    {
      "cell_type": "code",
      "execution_count": 17,
      "metadata": {
        "id": "hvKupKt10V5s",
        "outputId": "e10cf424-0b15-4e08-9f8b-826268dd89ee",
        "colab": {
          "base_uri": "https://localhost:8080/"
        }
      },
      "outputs": [
        {
          "output_type": "execute_result",
          "data": {
            "text/plain": [
              "[5838]"
            ]
          },
          "metadata": {},
          "execution_count": 17
        }
      ],
      "source": [
        "# Agents\n",
        "\n",
        "# Random search agent\n",
        "diff = DiffusionGrid(min_length=min_length)\n",
        "diff.seed(seed_value)\n",
        "\n",
        "# Chemotaxis agent\n",
        "min_length = 1 # Minimum step length on the grid\n",
        "p_neg = 0.80 # Probability of jumping if gradient is decreasing\n",
        "p_pos = 0.20 # Probabilty of jumping if gradient is increasing\n",
        "chemo = GradientDiffusionGrid(\n",
        "    min_length=min_length,\n",
        "    p_neg=p_neg,\n",
        "    p_pos=p_pos,\n",
        ")\n",
        "chemo.seed(seed_value)\n"
      ]
    },
    {
      "cell_type": "markdown",
      "metadata": {
        "id": "awCEAAyGngBm"
      },
      "source": [
        "Now let's run the experiments."
      ]
    },
    {
      "cell_type": "code",
      "execution_count": 18,
      "metadata": {
        "id": "rVTGtSPT0fN_",
        "outputId": "fa0cc057-f182-4cad-a6d0-1eaf0e4c53b9",
        "colab": {
          "base_uri": "https://localhost:8080/",
          "height": 81,
          "referenced_widgets": [
            "eaf92c4594884b0aba953dc86b7ac411",
            "6ec26385ed5c4c998ddcd48b0c2028ed",
            "d3f4790a916541bdac65fb86a26cba6e",
            "f7fc9c4e82c0407a8243bda7328f135b",
            "cf43ccd3d2cb4046b1aa13e0b7c96267",
            "0e2edd7fb55f40778b4178d66fee5df6",
            "d1cd1979c965417a965ef42b95df1e66",
            "473483c462364a279e2ab47991bbdfae",
            "53d1362982b8441f83e56062ed02a986",
            "025e83e4ac7244efbb2d683a9e313103",
            "399ef6de251646ae8074d6571885ff17",
            "1fe082de7013477384b621554e46d6b5",
            "04857e3503ca42289900b9c5c27101e3",
            "caf920c8245647fc9def1cf903afdd09",
            "aaca4ef77e684f0aa861dea7f8151799",
            "b29123d75d9b46ffb765f7df3ab77b63",
            "f21cdcfa0b994fcba372401e6d8d38a7",
            "3f43d5db0ee54a90a9f03c6d9744a645",
            "30c1acf93a534ce49d4a74053764f6ee",
            "457adac539b84932a4fa018ff9ed7333",
            "349159ee1f794f65ada7c83e32fc0b62",
            "fffe68a84d6c4840b7f89adbc89882cc"
          ]
        }
      },
      "outputs": [
        {
          "output_type": "display_data",
          "data": {
            "text/plain": [
              "rand:   0%|          | 0/100 [00:00<?, ?it/s]"
            ],
            "application/vnd.jupyter.widget-view+json": {
              "version_major": 2,
              "version_minor": 0,
              "model_id": "eaf92c4594884b0aba953dc86b7ac411"
            }
          },
          "metadata": {}
        },
        {
          "output_type": "display_data",
          "data": {
            "text/plain": [
              "chemo:   0%|          | 0/100 [00:00<?, ?it/s]"
            ],
            "application/vnd.jupyter.widget-view+json": {
              "version_major": 2,
              "version_minor": 0,
              "model_id": "1fe082de7013477384b621554e46d6b5"
            }
          },
          "metadata": {}
        }
      ],
      "source": [
        "# Experiments\n",
        "rand_exp = experiment(\n",
        "    f\"rand\",\n",
        "    diff,\n",
        "    env,\n",
        "    num_steps=num_steps,\n",
        "    num_experiments=num_experiments,\n",
        "    dump=False,\n",
        "    split_state=True,\n",
        "    seed=seed_value\n",
        ")\n",
        "chemo_exp = experiment(\n",
        "    f\"chemo\",\n",
        "    chemo,\n",
        "    env,\n",
        "    num_steps=num_steps,\n",
        "    num_experiments=num_experiments,\n",
        "    dump=False,\n",
        "    split_state=True,\n",
        "    seed=seed_value\n",
        ")"
      ]
    },
    {
      "cell_type": "markdown",
      "metadata": {
        "id": "aNn5xm5nno3t"
      },
      "source": [
        "Let's plot an example experiment. Here I'm choosing the second run for each agent."
      ]
    },
    {
      "cell_type": "code",
      "execution_count": 19,
      "metadata": {
        "id": "-1x_tV4C0jMS",
        "outputId": "64f4a324-03c4-4e5a-c917-5044003e4ba7",
        "colab": {
          "base_uri": "https://localhost:8080/",
          "height": 334
        }
      },
      "outputs": [
        {
          "output_type": "display_data",
          "data": {
            "text/plain": [
              "<Figure size 300x300 with 1 Axes>"
            ],
            "image/png": "[encoded data removed]"
          },
          "metadata": {
            "image/png": {
              "width": 507,
              "height": 317
            }
          }
        }
      ],
      "source": [
        "plot_boundary = target_boundary\n",
        "\n",
        "# -\n",
        "num_experiment = 12\n",
        "ax = None\n",
        "ax = plot_position2d(\n",
        "    select_exp(rand_exp, num_experiment),\n",
        "    boundary=plot_boundary,\n",
        "    label=\"Rando\",\n",
        "    color=\"red\",\n",
        "    alpha=0.8,\n",
        "    ax=ax,\n",
        ")\n",
        "ax = plot_position2d(\n",
        "    select_exp(chemo_exp, num_experiment),\n",
        "    boundary=plot_boundary,\n",
        "    label=\"Chemo\",\n",
        "    color=\"blue\",\n",
        "    alpha=0.6,\n",
        "    ax=ax,\n",
        ")\n",
        "ax = plot_targets2d(\n",
        "    env,\n",
        "    boundary=plot_boundary,\n",
        "    color=\"black\",\n",
        "    alpha=1,\n",
        "    label=\"Targets\",\n",
        "    ax=ax,\n",
        ")"
      ]
    },
    {
      "cell_type": "markdown",
      "metadata": {
        "id": "Sw96O-9pnzTb"
      },
      "source": [
        "Hard to distinguish their individual behaviors, but our agents seem to be exploring. It looks like this Chemo agent may be moving more than the Rando counterpart. So let's look at the overall distance both agents cover.\n"
      ]
    },
    {
      "cell_type": "code",
      "execution_count": 20,
      "metadata": {
        "id": "ICBnDBbep1Z7",
        "outputId": "172a7317-bdda-4023-df9e-06eb307ae828",
        "colab": {
          "base_uri": "https://localhost:8080/",
          "height": 290
        }
      },
      "outputs": [
        {
          "output_type": "display_data",
          "data": {
            "text/plain": [
              "<Figure size 400x300 with 1 Axes>"
            ],
            "image/png": "[encoded data removed]"
          },
          "metadata": {
            "image/png": {
              "width": 373,
              "height": 273
            }
          }
        }
      ],
      "source": [
        "# Results\n",
        "results = [rand_exp, chemo_exp]\n",
        "names = [\"Rando\", \"Chemo\"]\n",
        "colors = [\"red\", \"blue\"]\n",
        "\n",
        "# Score by eff\n",
        "scores = []\n",
        "for name, res, color in zip(names, results, colors):\n",
        "    l = 0.0\n",
        "    for r in res:\n",
        "        l += np.sum(r[\"agent_num_step\"])\n",
        "    scores.append(l)\n",
        "\n",
        "# Tabulate\n",
        "m, sd = [], []\n",
        "for (name, s, c) in zip(names, scores, colors):\n",
        "    m.append(np.mean(s))\n",
        "    sd.append(np.std(s))\n",
        "\n",
        "# Plot means\n",
        "fig = plt.figure(figsize=(4, 3))\n",
        "plt.bar(names, m, yerr=sd, color=\"black\", alpha=0.6)\n",
        "plt.ylabel(\"Total run distance\")\n",
        "plt.tight_layout()\n",
        "sns.despine()"
      ]
    },
    {
      "cell_type": "markdown",
      "source": [
        "---\n",
        "### Question 2.1\n",
        "\n",
        "Why is the Chemo agent covering more distance than the random diffusion agent?"
      ],
      "metadata": {
        "id": "JtpQUbsGsmsR"
      }
    },
    {
      "cell_type": "markdown",
      "source": [
        "__Answer:__\n",
        "\n",
        "The Chemo agent has a longer run probability when the gradient is increasing. When the gradient is incresing, the Chemo agent reduces its probability of changing direction and tumbles less compared to the random agent because it is moving due to random brownian motion, therefore the random agent covers less ground."
      ],
      "metadata": {
        "id": "pbZ7uQ0qIiA1"
      }
    },
    {
      "cell_type": "markdown",
      "source": [
        "Okay, now we can look at the overall performance of the two agents.\n",
        "\n",
        "First, let's look at the most extreme performance measure: deaths. If an agent does not reach _at least one_ food pellet, then it dies at the end of the simulation. You've got to eat to survive afterall. Out of our set of simulations, how many deaths occured with each agent?"
      ],
      "metadata": {
        "id": "jKi3FEL-sx_a"
      }
    },
    {
      "cell_type": "code",
      "execution_count": null,
      "metadata": {
        "id": "yPaHH65P2EP8",
        "outputId": "a409b3cc-2420-4ab7-9af1-ccd2030ca93a",
        "colab": {
          "base_uri": "https://localhost:8080/",
          "height": 354,
          "referenced_widgets": [
            "2e2d41d46fd3456db50755dc5541ad1b",
            "7c2e238d9ca9449892e52525be709dbe",
            "4d8a848fb0ab482a96523a8b0d7f434f",
            "3b741c561631451bb339847833015248",
            "09ae67991aba4d60a091dc1dc6a76606",
            "253f67cbefec47cb882383cccb141655",
            "0e9e011e7f9c4cafab03e062aa3022dd",
            "968cd6886270436d88b3cf1c133526fe",
            "5031774ccd2f4c6da0988037d518e9d5",
            "b386b9de34024996bde0c8be3c05d4fb",
            "37f502fa30504cc78cc3abd6bb4e46d1",
            "47c8e52aa3364ad89f0939834634b178",
            "e461aa86e3f748e5a2ddcc1852708b67",
            "2085a112e5614c159cbb73d8bdeca513",
            "80d0e5c37e2445fbb37a41831a2f9841",
            "54d903e423de43b4b28447bf88a4e93e",
            "ec4f79a334fe4238af185a07b6e31257",
            "d4115bf922594b2ebdae5ffb7c89b101",
            "7fbcdaad75c54950af1bc4ac19a23570",
            "10f668b2ab4f43a78dd82fff1b9df5bd",
            "0867ff70a6fa40249866536b4d6e57bb",
            "53c150b02533424da775810717c1792d"
          ]
        }
      },
      "outputs": [
        {
          "output_type": "display_data",
          "data": {
            "text/plain": [
              "num_death:   0%|          | 0/100 [00:00<?, ?it/s]"
            ],
            "application/vnd.jupyter.widget-view+json": {
              "version_major": 2,
              "version_minor": 0,
              "model_id": "2e2d41d46fd3456db50755dc5541ad1b"
            }
          },
          "metadata": {}
        },
        {
          "output_type": "display_data",
          "data": {
            "text/plain": [
              "num_death:   0%|          | 0/100 [00:00<?, ?it/s]"
            ],
            "application/vnd.jupyter.widget-view+json": {
              "version_major": 2,
              "version_minor": 0,
              "model_id": "47c8e52aa3364ad89f0939834634b178"
            }
          },
          "metadata": {}
        },
        {
          "output_type": "display_data",
          "data": {
            "text/plain": [
              "<Figure size 400x300 with 1 Axes>"
            ],
            "image/png": "[encoded data removed]"
          },
          "metadata": {
            "image/png": {
              "width": 373,
              "height": 273
            }
          }
        }
      ],
      "source": [
        "# Results\n",
        "results = [rand_exp, chemo_exp]\n",
        "names = [\"Rando\", \"Chemo\"]\n",
        "colors = [\"red\", \"blue\"]\n",
        "\n",
        "# Score by eff\n",
        "scores = []\n",
        "for name, res, color in zip(names, results, colors):\n",
        "    scores.append(num_death(res))\n",
        "\n",
        "# Tabulate\n",
        "m, sd = [], []\n",
        "for (name, s, c) in zip(names, scores, colors):\n",
        "    m.append(np.mean(s))\n",
        "    sd.append(np.std(s))\n",
        "\n",
        "# Plot means\n",
        "fig = plt.figure(figsize=(4, 3))\n",
        "plt.bar(names, m, yerr=sd, color=\"black\", alpha=0.6)\n",
        "plt.ylabel(\"Deaths\")\n",
        "plt.tight_layout()\n",
        "sns.despine()"
      ]
    },
    {
      "cell_type": "code",
      "execution_count": null,
      "metadata": {
        "id": "7Kl9LjUL2IMK",
        "outputId": "476f7f4b-897b-43dc-b376-4ca9b12bb1ec",
        "colab": {
          "base_uri": "https://localhost:8080/",
          "height": 829,
          "referenced_widgets": [
            "8d07752513a84b64ab37d469a886b052",
            "591832a1714246a8b5033133784645c5",
            "7bcce00230a44e3e93cfc628d4fa6243",
            "0212e4e47df24ff48ebe19fda20de8db",
            "e7ed5fbe11c64f8486548f8d1954dcf9",
            "70c82ced66a44d438f83ce3291f07930",
            "4ed842e35ce44332968cf2b724a88911",
            "b1706312e2a343c49340807de3f12713",
            "fe939ff4072349458f3be17a51cd1645",
            "3de8fdb01d8f48e184cd56bdeefb8581",
            "0db1083ec8834dac82a226d494ffa8ae",
            "41c9ce7711ce43af84ec7ec8e5ffb64c",
            "d6f5adb82d3c4a3aa04a4e64caeac219",
            "35ba216318d1473194424f4df8569285",
            "3d60d316d6c5474a9656eccb9320dd78",
            "c3b7e726e6064cb59f9ae61084e928c7",
            "e8c8f9be5ffb4b7f8bde3d6522d8db2d",
            "97b35d450db3447383a7f5ce11d21a9e",
            "117664d4da0c4775abcb1a8a5bb0e2b1",
            "326e285231544b32bc5d20224e81546a",
            "6919d9e41b124436860e36a8ec752a20",
            "0f3c8bf3a12f47aa8db4eeef764da2fe"
          ]
        }
      },
      "outputs": [
        {
          "output_type": "display_data",
          "data": {
            "text/plain": [
              "total_reward:   0%|          | 0/100 [00:00<?, ?it/s]"
            ],
            "application/vnd.jupyter.widget-view+json": {
              "version_major": 2,
              "version_minor": 0,
              "model_id": "8d07752513a84b64ab37d469a886b052"
            }
          },
          "metadata": {}
        },
        {
          "output_type": "display_data",
          "data": {
            "text/plain": [
              "total_reward:   0%|          | 0/100 [00:00<?, ?it/s]"
            ],
            "application/vnd.jupyter.widget-view+json": {
              "version_major": 2,
              "version_minor": 0,
              "model_id": "41c9ce7711ce43af84ec7ec8e5ffb64c"
            }
          },
          "metadata": {}
        },
        {
          "output_type": "display_data",
          "data": {
            "text/plain": [
              "<Figure size 500x400 with 1 Axes>"
            ],
            "image/png": "[encoded data removed]"
          },
          "metadata": {
            "image/png": {
              "width": 473,
              "height": 373
            }
          }
        },
        {
          "output_type": "display_data",
          "data": {
            "text/plain": [
              "<Figure size 500x400 with 1 Axes>"
            ],
            "image/png": "[encoded data removed]"
          },
          "metadata": {
            "image/png": {
              "width": 471,
              "height": 375
            }
          }
        }
      ],
      "source": [
        "# Results\n",
        "results = [rand_exp, chemo_exp]\n",
        "names = [\"Rando\", \"Chemo\"]\n",
        "colors = [\"red\", \"blue\"]\n",
        "\n",
        "# Score by eff\n",
        "scores = []\n",
        "for name, res, color in zip(names, results, colors):\n",
        "    r = total_reward(res)\n",
        "    scores.append(r)\n",
        "\n",
        "# Tabulate\n",
        "m, sd = [], []\n",
        "for (name, s, c) in zip(names, scores, colors):\n",
        "    m.append(np.mean(s))\n",
        "    sd.append(np.std(s))\n",
        "\n",
        "# Plot means\n",
        "fig = plt.figure(figsize=(5, 4))\n",
        "plt.bar(names, m, yerr=sd, color=\"black\", alpha=0.6)\n",
        "plt.ylabel(\"Total reward\")\n",
        "plt.tight_layout()\n",
        "sns.despine()\n",
        "\n",
        "# Dists\n",
        "fig = plt.figure(figsize=(5, 4))\n",
        "for (name, s, c) in zip(names, scores, colors):\n",
        "    plt.hist(s, label=name, color=c, alpha=0.5, bins=np.linspace(0, np.max(scores), 15))\n",
        "    plt.legend()\n",
        "    plt.xlabel(\"Score\")\n",
        "    plt.tight_layout()\n",
        "    sns.despine()"
      ]
    },
    {
      "cell_type": "markdown",
      "metadata": {
        "id": "n1-KWIgnn_Rp"
      },
      "source": [
        "---\n",
        "### Question 2.2\n",
        "\n",
        "How do each of our agents perform across the performance measures we have chosen?"
      ]
    },
    {
      "cell_type": "markdown",
      "source": [
        "__Answer:__\n",
        "\n",
        "out of 100 similatuions, the rando agent had a much higher fail rate compared to the chemo agent.\n",
        "\n",
        "chemo agents also averaged around 3.25 rewards per agent compared to rando's 2.25"
      ],
      "metadata": {
        "id": "_PbHIhYZIlyK"
      }
    },
    {
      "cell_type": "markdown",
      "source": [
        "---\n",
        "### Question 2.3\n",
        "\n",
        "What explains this difference in performance? Be specific."
      ],
      "metadata": {
        "id": "zaFBT_ICdBwF"
      }
    },
    {
      "cell_type": "markdown",
      "source": [
        "__Answer:__\n",
        "\n",
        "the chemo agent is sensing the noise. The random agent is just moving randomly according to brownian motion so it is hitting the rewards by compelete chance. However, the Chemo agent has the sensing mechanism which allows it to follow the gradients emmited by the target so it is more likely to get a reward and therefore survive."
      ],
      "metadata": {
        "id": "E8Crsq0kIo9b"
      }
    },
    {
      "cell_type": "markdown",
      "source": [
        "---\n",
        "### Question 2.4\n",
        "\n",
        "Right now we have set _p neg_ and _p pos_ to 80% and 20% respectively. This means that the probability of stopping a run and tumbling is 80% of the time when a gradient is not increasing and 20% of the time when it is. Let's see how the performance changes when we make the algorithm almost deterministic. Write down the (approximate) performance numbers you have above (total run distance, number of deaths, and total reward), change _p neg_ to 1.00 and _p pos_ to 0.00. This means that whenever the gradient is increasing, our sniff valentino will keep running and when it decreases it will always tumble.\n",
        "\n",
        "Wha the performance of our chemotaxic agent when you make this a deterministic algorithm? Why do you think this change in performance occured? Be specific."
      ],
      "metadata": {
        "id": "NH8VjYWkdvQV"
      }
    },
    {
      "cell_type": "markdown",
      "source": [
        "__Answer:__\n",
        "\n",
        "the rewards stay the same.\n",
        "\n",
        "run distance goes down because there is a lack in flexabiliy over \"choosing\" to tumble or run when the gradient is decreasing/increasing. This means whenever the gradient decreases, the agent will always tumble and change direction.\n",
        "\n",
        "deaths go up. This is because the agent will keep tumbling as soon as the gradient decreases, limiting its ability to continue down new paths leading to rewards when the gradient turns even slighly negative."
      ],
      "metadata": {
        "id": "Q2MiK4A9IrFf"
      }
    },
    {
      "cell_type": "markdown",
      "source": [
        "\n",
        "---\n",
        "**IMPORTANT** Did you collaborate with anyone on this assignment, or use LLMs like ChatGPT? If so, list their names here.\n",
        "> *Write Name(s) here*"
      ],
      "metadata": {
        "id": "BkLiElhxI9cg"
      }
    }
  ],
  "metadata": {
    "colab": {
      "provenance": [],
      "include_colab_link": true
    },
    "kernelspec": {
      "display_name": "Python 3 (ipykernel)",
      "language": "python",
      "name": "python3"
    },
    "language_info": {
      "codemirror_mode": {
        "name": "ipython",
        "version": 3
      },
      "file_extension": ".py",
      "mimetype": "text/x-python",
      "name": "python",
      "nbconvert_exporter": "python",
      "pygments_lexer": "ipython3",
      "version": "3.8.3"
    },
    "widgets": {
      "application/vnd.jupyter.widget-state+json": {
        "2e2d41d46fd3456db50755dc5541ad1b": {
          "model_module": "@jupyter-widgets/controls",
          "model_name": "HBoxModel",
          "model_module_version": "1.5.0",
          "state": {
            "_dom_classes": [],
            "_model_module": "@jupyter-widgets/controls",
            "_model_module_version": "1.5.0",
            "_model_name": "HBoxModel",
            "_view_count": null,
            "_view_module": "@jupyter-widgets/controls",
            "_view_module_version": "1.5.0",
            "_view_name": "HBoxView",
            "box_style": "",
            "children": [
              "IPY_MODEL_7c2e238d9ca9449892e52525be709dbe",
              "IPY_MODEL_4d8a848fb0ab482a96523a8b0d7f434f",
              "IPY_MODEL_3b741c561631451bb339847833015248"
            ],
            "layout": "IPY_MODEL_09ae67991aba4d60a091dc1dc6a76606"
          }
        },
        "7c2e238d9ca9449892e52525be709dbe": {
          "model_module": "@jupyter-widgets/controls",
          "model_name": "HTMLModel",
          "model_module_version": "1.5.0",
          "state": {
            "_dom_classes": [],
            "_model_module": "@jupyter-widgets/controls",
            "_model_module_version": "1.5.0",
            "_model_name": "HTMLModel",
            "_view_count": null,
            "_view_module": "@jupyter-widgets/controls",
            "_view_module_version": "1.5.0",
            "_view_name": "HTMLView",
            "description": "",
            "description_tooltip": null,
            "layout": "IPY_MODEL_253f67cbefec47cb882383cccb141655",
            "placeholder": "​",
            "style": "IPY_MODEL_0e9e011e7f9c4cafab03e062aa3022dd",
            "value": "num_death: 100%"
          }
        },
        "4d8a848fb0ab482a96523a8b0d7f434f": {
          "model_module": "@jupyter-widgets/controls",
          "model_name": "FloatProgressModel",
          "model_module_version": "1.5.0",
          "state": {
            "_dom_classes": [],
            "_model_module": "@jupyter-widgets/controls",
            "_model_module_version": "1.5.0",
            "_model_name": "FloatProgressModel",
            "_view_count": null,
            "_view_module": "@jupyter-widgets/controls",
            "_view_module_version": "1.5.0",
            "_view_name": "ProgressView",
            "bar_style": "success",
            "description": "",
            "description_tooltip": null,
            "layout": "IPY_MODEL_968cd6886270436d88b3cf1c133526fe",
            "max": 100,
            "min": 0,
            "orientation": "horizontal",
            "style": "IPY_MODEL_5031774ccd2f4c6da0988037d518e9d5",
            "value": 100
          }
        },
        "3b741c561631451bb339847833015248": {
          "model_module": "@jupyter-widgets/controls",
          "model_name": "HTMLModel",
          "model_module_version": "1.5.0",
          "state": {
            "_dom_classes": [],
            "_model_module": "@jupyter-widgets/controls",
            "_model_module_version": "1.5.0",
            "_model_name": "HTMLModel",
            "_view_count": null,
            "_view_module": "@jupyter-widgets/controls",
            "_view_module_version": "1.5.0",
            "_view_name": "HTMLView",
            "description": "",
            "description_tooltip": null,
            "layout": "IPY_MODEL_b386b9de34024996bde0c8be3c05d4fb",
            "placeholder": "​",
            "style": "IPY_MODEL_37f502fa30504cc78cc3abd6bb4e46d1",
            "value": " 100/100 [00:00&lt;00:00, 3015.68it/s]"
          }
        },
        "09ae67991aba4d60a091dc1dc6a76606": {
          "model_module": "@jupyter-widgets/base",
          "model_name": "LayoutModel",
          "model_module_version": "1.2.0",
          "state": {
            "_model_module": "@jupyter-widgets/base",
            "_model_module_version": "1.2.0",
            "_model_name": "LayoutModel",
            "_view_count": null,
            "_view_module": "@jupyter-widgets/base",
            "_view_module_version": "1.2.0",
            "_view_name": "LayoutView",
            "align_content": null,
            "align_items": null,
            "align_self": null,
            "border": null,
            "bottom": null,
            "display": null,
            "flex": null,
            "flex_flow": null,
            "grid_area": null,
            "grid_auto_columns": null,
            "grid_auto_flow": null,
            "grid_auto_rows": null,
            "grid_column": null,
            "grid_gap": null,
            "grid_row": null,
            "grid_template_areas": null,
            "grid_template_columns": null,
            "grid_template_rows": null,
            "height": null,
            "justify_content": null,
            "justify_items": null,
            "left": null,
            "margin": null,
            "max_height": null,
            "max_width": null,
            "min_height": null,
            "min_width": null,
            "object_fit": null,
            "object_position": null,
            "order": null,
            "overflow": null,
            "overflow_x": null,
            "overflow_y": null,
            "padding": null,
            "right": null,
            "top": null,
            "visibility": null,
            "width": null
          }
        },
        "253f67cbefec47cb882383cccb141655": {
          "model_module": "@jupyter-widgets/base",
          "model_name": "LayoutModel",
          "model_module_version": "1.2.0",
          "state": {
            "_model_module": "@jupyter-widgets/base",
            "_model_module_version": "1.2.0",
            "_model_name": "LayoutModel",
            "_view_count": null,
            "_view_module": "@jupyter-widgets/base",
            "_view_module_version": "1.2.0",
            "_view_name": "LayoutView",
            "align_content": null,
            "align_items": null,
            "align_self": null,
            "border": null,
            "bottom": null,
            "display": null,
            "flex": null,
            "flex_flow": null,
            "grid_area": null,
            "grid_auto_columns": null,
            "grid_auto_flow": null,
            "grid_auto_rows": null,
            "grid_column": null,
            "grid_gap": null,
            "grid_row": null,
            "grid_template_areas": null,
            "grid_template_columns": null,
            "grid_template_rows": null,
            "height": null,
            "justify_content": null,
            "justify_items": null,
            "left": null,
            "margin": null,
            "max_height": null,
            "max_width": null,
            "min_height": null,
            "min_width": null,
            "object_fit": null,
            "object_position": null,
            "order": null,
            "overflow": null,
            "overflow_x": null,
            "overflow_y": null,
            "padding": null,
            "right": null,
            "top": null,
            "visibility": null,
            "width": null
          }
        },
        "0e9e011e7f9c4cafab03e062aa3022dd": {
          "model_module": "@jupyter-widgets/controls",
          "model_name": "DescriptionStyleModel",
          "model_module_version": "1.5.0",
          "state": {
            "_model_module": "@jupyter-widgets/controls",
            "_model_module_version": "1.5.0",
            "_model_name": "DescriptionStyleModel",
            "_view_count": null,
            "_view_module": "@jupyter-widgets/base",
            "_view_module_version": "1.2.0",
            "_view_name": "StyleView",
            "description_width": ""
          }
        },
        "968cd6886270436d88b3cf1c133526fe": {
          "model_module": "@jupyter-widgets/base",
          "model_name": "LayoutModel",
          "model_module_version": "1.2.0",
          "state": {
            "_model_module": "@jupyter-widgets/base",
            "_model_module_version": "1.2.0",
            "_model_name": "LayoutModel",
            "_view_count": null,
            "_view_module": "@jupyter-widgets/base",
            "_view_module_version": "1.2.0",
            "_view_name": "LayoutView",
            "align_content": null,
            "align_items": null,
            "align_self": null,
            "border": null,
            "bottom": null,
            "display": null,
            "flex": null,
            "flex_flow": null,
            "grid_area": null,
            "grid_auto_columns": null,
            "grid_auto_flow": null,
            "grid_auto_rows": null,
            "grid_column": null,
            "grid_gap": null,
            "grid_row": null,
            "grid_template_areas": null,
            "grid_template_columns": null,
            "grid_template_rows": null,
            "height": null,
            "justify_content": null,
            "justify_items": null,
            "left": null,
            "margin": null,
            "max_height": null,
            "max_width": null,
            "min_height": null,
            "min_width": null,
            "object_fit": null,
            "object_position": null,
            "order": null,
            "overflow": null,
            "overflow_x": null,
            "overflow_y": null,
            "padding": null,
            "right": null,
            "top": null,
            "visibility": null,
            "width": null
          }
        },
        "5031774ccd2f4c6da0988037d518e9d5": {
          "model_module": "@jupyter-widgets/controls",
          "model_name": "ProgressStyleModel",
          "model_module_version": "1.5.0",
          "state": {
            "_model_module": "@jupyter-widgets/controls",
            "_model_module_version": "1.5.0",
            "_model_name": "ProgressStyleModel",
            "_view_count": null,
            "_view_module": "@jupyter-widgets/base",
            "_view_module_version": "1.2.0",
            "_view_name": "StyleView",
            "bar_color": null,
            "description_width": ""
          }
        },
        "b386b9de34024996bde0c8be3c05d4fb": {
          "model_module": "@jupyter-widgets/base",
          "model_name": "LayoutModel",
          "model_module_version": "1.2.0",
          "state": {
            "_model_module": "@jupyter-widgets/base",
            "_model_module_version": "1.2.0",
            "_model_name": "LayoutModel",
            "_view_count": null,
            "_view_module": "@jupyter-widgets/base",
            "_view_module_version": "1.2.0",
            "_view_name": "LayoutView",
            "align_content": null,
            "align_items": null,
            "align_self": null,
            "border": null,
            "bottom": null,
            "display": null,
            "flex": null,
            "flex_flow": null,
            "grid_area": null,
            "grid_auto_columns": null,
            "grid_auto_flow": null,
            "grid_auto_rows": null,
            "grid_column": null,
            "grid_gap": null,
            "grid_row": null,
            "grid_template_areas": null,
            "grid_template_columns": null,
            "grid_template_rows": null,
            "height": null,
            "justify_content": null,
            "justify_items": null,
            "left": null,
            "margin": null,
            "max_height": null,
            "max_width": null,
            "min_height": null,
            "min_width": null,
            "object_fit": null,
            "object_position": null,
            "order": null,
            "overflow": null,
            "overflow_x": null,
            "overflow_y": null,
            "padding": null,
            "right": null,
            "top": null,
            "visibility": null,
            "width": null
          }
        },
        "37f502fa30504cc78cc3abd6bb4e46d1": {
          "model_module": "@jupyter-widgets/controls",
          "model_name": "DescriptionStyleModel",
          "model_module_version": "1.5.0",
          "state": {
            "_model_module": "@jupyter-widgets/controls",
            "_model_module_version": "1.5.0",
            "_model_name": "DescriptionStyleModel",
            "_view_count": null,
            "_view_module": "@jupyter-widgets/base",
            "_view_module_version": "1.2.0",
            "_view_name": "StyleView",
            "description_width": ""
          }
        },
        "47c8e52aa3364ad89f0939834634b178": {
          "model_module": "@jupyter-widgets/controls",
          "model_name": "HBoxModel",
          "model_module_version": "1.5.0",
          "state": {
            "_dom_classes": [],
            "_model_module": "@jupyter-widgets/controls",
            "_model_module_version": "1.5.0",
            "_model_name": "HBoxModel",
            "_view_count": null,
            "_view_module": "@jupyter-widgets/controls",
            "_view_module_version": "1.5.0",
            "_view_name": "HBoxView",
            "box_style": "",
            "children": [
              "IPY_MODEL_e461aa86e3f748e5a2ddcc1852708b67",
              "IPY_MODEL_2085a112e5614c159cbb73d8bdeca513",
              "IPY_MODEL_80d0e5c37e2445fbb37a41831a2f9841"
            ],
            "layout": "IPY_MODEL_54d903e423de43b4b28447bf88a4e93e"
          }
        },
        "e461aa86e3f748e5a2ddcc1852708b67": {
          "model_module": "@jupyter-widgets/controls",
          "model_name": "HTMLModel",
          "model_module_version": "1.5.0",
          "state": {
            "_dom_classes": [],
            "_model_module": "@jupyter-widgets/controls",
            "_model_module_version": "1.5.0",
            "_model_name": "HTMLModel",
            "_view_count": null,
            "_view_module": "@jupyter-widgets/controls",
            "_view_module_version": "1.5.0",
            "_view_name": "HTMLView",
            "description": "",
            "description_tooltip": null,
            "layout": "IPY_MODEL_ec4f79a334fe4238af185a07b6e31257",
            "placeholder": "​",
            "style": "IPY_MODEL_d4115bf922594b2ebdae5ffb7c89b101",
            "value": "num_death: 100%"
          }
        },
        "2085a112e5614c159cbb73d8bdeca513": {
          "model_module": "@jupyter-widgets/controls",
          "model_name": "FloatProgressModel",
          "model_module_version": "1.5.0",
          "state": {
            "_dom_classes": [],
            "_model_module": "@jupyter-widgets/controls",
            "_model_module_version": "1.5.0",
            "_model_name": "FloatProgressModel",
            "_view_count": null,
            "_view_module": "@jupyter-widgets/controls",
            "_view_module_version": "1.5.0",
            "_view_name": "ProgressView",
            "bar_style": "success",
            "description": "",
            "description_tooltip": null,
            "layout": "IPY_MODEL_7fbcdaad75c54950af1bc4ac19a23570",
            "max": 100,
            "min": 0,
            "orientation": "horizontal",
            "style": "IPY_MODEL_10f668b2ab4f43a78dd82fff1b9df5bd",
            "value": 100
          }
        },
        "80d0e5c37e2445fbb37a41831a2f9841": {
          "model_module": "@jupyter-widgets/controls",
          "model_name": "HTMLModel",
          "model_module_version": "1.5.0",
          "state": {
            "_dom_classes": [],
            "_model_module": "@jupyter-widgets/controls",
            "_model_module_version": "1.5.0",
            "_model_name": "HTMLModel",
            "_view_count": null,
            "_view_module": "@jupyter-widgets/controls",
            "_view_module_version": "1.5.0",
            "_view_name": "HTMLView",
            "description": "",
            "description_tooltip": null,
            "layout": "IPY_MODEL_0867ff70a6fa40249866536b4d6e57bb",
            "placeholder": "​",
            "style": "IPY_MODEL_53c150b02533424da775810717c1792d",
            "value": " 100/100 [00:00&lt;00:00, 3721.98it/s]"
          }
        },
        "54d903e423de43b4b28447bf88a4e93e": {
          "model_module": "@jupyter-widgets/base",
          "model_name": "LayoutModel",
          "model_module_version": "1.2.0",
          "state": {
            "_model_module": "@jupyter-widgets/base",
            "_model_module_version": "1.2.0",
            "_model_name": "LayoutModel",
            "_view_count": null,
            "_view_module": "@jupyter-widgets/base",
            "_view_module_version": "1.2.0",
            "_view_name": "LayoutView",
            "align_content": null,
            "align_items": null,
            "align_self": null,
            "border": null,
            "bottom": null,
            "display": null,
            "flex": null,
            "flex_flow": null,
            "grid_area": null,
            "grid_auto_columns": null,
            "grid_auto_flow": null,
            "grid_auto_rows": null,
            "grid_column": null,
            "grid_gap": null,
            "grid_row": null,
            "grid_template_areas": null,
            "grid_template_columns": null,
            "grid_template_rows": null,
            "height": null,
            "justify_content": null,
            "justify_items": null,
            "left": null,
            "margin": null,
            "max_height": null,
            "max_width": null,
            "min_height": null,
            "min_width": null,
            "object_fit": null,
            "object_position": null,
            "order": null,
            "overflow": null,
            "overflow_x": null,
            "overflow_y": null,
            "padding": null,
            "right": null,
            "top": null,
            "visibility": null,
            "width": null
          }
        },
        "ec4f79a334fe4238af185a07b6e31257": {
          "model_module": "@jupyter-widgets/base",
          "model_name": "LayoutModel",
          "model_module_version": "1.2.0",
          "state": {
            "_model_module": "@jupyter-widgets/base",
            "_model_module_version": "1.2.0",
            "_model_name": "LayoutModel",
            "_view_count": null,
            "_view_module": "@jupyter-widgets/base",
            "_view_module_version": "1.2.0",
            "_view_name": "LayoutView",
            "align_content": null,
            "align_items": null,
            "align_self": null,
            "border": null,
            "bottom": null,
            "display": null,
            "flex": null,
            "flex_flow": null,
            "grid_area": null,
            "grid_auto_columns": null,
            "grid_auto_flow": null,
            "grid_auto_rows": null,
            "grid_column": null,
            "grid_gap": null,
            "grid_row": null,
            "grid_template_areas": null,
            "grid_template_columns": null,
            "grid_template_rows": null,
            "height": null,
            "justify_content": null,
            "justify_items": null,
            "left": null,
            "margin": null,
            "max_height": null,
            "max_width": null,
            "min_height": null,
            "min_width": null,
            "object_fit": null,
            "object_position": null,
            "order": null,
            "overflow": null,
            "overflow_x": null,
            "overflow_y": null,
            "padding": null,
            "right": null,
            "top": null,
            "visibility": null,
            "width": null
          }
        },
        "d4115bf922594b2ebdae5ffb7c89b101": {
          "model_module": "@jupyter-widgets/controls",
          "model_name": "DescriptionStyleModel",
          "model_module_version": "1.5.0",
          "state": {
            "_model_module": "@jupyter-widgets/controls",
            "_model_module_version": "1.5.0",
            "_model_name": "DescriptionStyleModel",
            "_view_count": null,
            "_view_module": "@jupyter-widgets/base",
            "_view_module_version": "1.2.0",
            "_view_name": "StyleView",
            "description_width": ""
          }
        },
        "7fbcdaad75c54950af1bc4ac19a23570": {
          "model_module": "@jupyter-widgets/base",
          "model_name": "LayoutModel",
          "model_module_version": "1.2.0",
          "state": {
            "_model_module": "@jupyter-widgets/base",
            "_model_module_version": "1.2.0",
            "_model_name": "LayoutModel",
            "_view_count": null,
            "_view_module": "@jupyter-widgets/base",
            "_view_module_version": "1.2.0",
            "_view_name": "LayoutView",
            "align_content": null,
            "align_items": null,
            "align_self": null,
            "border": null,
            "bottom": null,
            "display": null,
            "flex": null,
            "flex_flow": null,
            "grid_area": null,
            "grid_auto_columns": null,
            "grid_auto_flow": null,
            "grid_auto_rows": null,
            "grid_column": null,
            "grid_gap": null,
            "grid_row": null,
            "grid_template_areas": null,
            "grid_template_columns": null,
            "grid_template_rows": null,
            "height": null,
            "justify_content": null,
            "justify_items": null,
            "left": null,
            "margin": null,
            "max_height": null,
            "max_width": null,
            "min_height": null,
            "min_width": null,
            "object_fit": null,
            "object_position": null,
            "order": null,
            "overflow": null,
            "overflow_x": null,
            "overflow_y": null,
            "padding": null,
            "right": null,
            "top": null,
            "visibility": null,
            "width": null
          }
        },
        "10f668b2ab4f43a78dd82fff1b9df5bd": {
          "model_module": "@jupyter-widgets/controls",
          "model_name": "ProgressStyleModel",
          "model_module_version": "1.5.0",
          "state": {
            "_model_module": "@jupyter-widgets/controls",
            "_model_module_version": "1.5.0",
            "_model_name": "ProgressStyleModel",
            "_view_count": null,
            "_view_module": "@jupyter-widgets/base",
            "_view_module_version": "1.2.0",
            "_view_name": "StyleView",
            "bar_color": null,
            "description_width": ""
          }
        },
        "0867ff70a6fa40249866536b4d6e57bb": {
          "model_module": "@jupyter-widgets/base",
          "model_name": "LayoutModel",
          "model_module_version": "1.2.0",
          "state": {
            "_model_module": "@jupyter-widgets/base",
            "_model_module_version": "1.2.0",
            "_model_name": "LayoutModel",
            "_view_count": null,
            "_view_module": "@jupyter-widgets/base",
            "_view_module_version": "1.2.0",
            "_view_name": "LayoutView",
            "align_content": null,
            "align_items": null,
            "align_self": null,
            "border": null,
            "bottom": null,
            "display": null,
            "flex": null,
            "flex_flow": null,
            "grid_area": null,
            "grid_auto_columns": null,
            "grid_auto_flow": null,
            "grid_auto_rows": null,
            "grid_column": null,
            "grid_gap": null,
            "grid_row": null,
            "grid_template_areas": null,
            "grid_template_columns": null,
            "grid_template_rows": null,
            "height": null,
            "justify_content": null,
            "justify_items": null,
            "left": null,
            "margin": null,
            "max_height": null,
            "max_width": null,
            "min_height": null,
            "min_width": null,
            "object_fit": null,
            "object_position": null,
            "order": null,
            "overflow": null,
            "overflow_x": null,
            "overflow_y": null,
            "padding": null,
            "right": null,
            "top": null,
            "visibility": null,
            "width": null
          }
        },
        "53c150b02533424da775810717c1792d": {
          "model_module": "@jupyter-widgets/controls",
          "model_name": "DescriptionStyleModel",
          "model_module_version": "1.5.0",
          "state": {
            "_model_module": "@jupyter-widgets/controls",
            "_model_module_version": "1.5.0",
            "_model_name": "DescriptionStyleModel",
            "_view_count": null,
            "_view_module": "@jupyter-widgets/base",
            "_view_module_version": "1.2.0",
            "_view_name": "StyleView",
            "description_width": ""
          }
        },
        "8d07752513a84b64ab37d469a886b052": {
          "model_module": "@jupyter-widgets/controls",
          "model_name": "HBoxModel",
          "model_module_version": "1.5.0",
          "state": {
            "_dom_classes": [],
            "_model_module": "@jupyter-widgets/controls",
            "_model_module_version": "1.5.0",
            "_model_name": "HBoxModel",
            "_view_count": null,
            "_view_module": "@jupyter-widgets/controls",
            "_view_module_version": "1.5.0",
            "_view_name": "HBoxView",
            "box_style": "",
            "children": [
              "IPY_MODEL_591832a1714246a8b5033133784645c5",
              "IPY_MODEL_7bcce00230a44e3e93cfc628d4fa6243",
              "IPY_MODEL_0212e4e47df24ff48ebe19fda20de8db"
            ],
            "layout": "IPY_MODEL_e7ed5fbe11c64f8486548f8d1954dcf9"
          }
        },
        "591832a1714246a8b5033133784645c5": {
          "model_module": "@jupyter-widgets/controls",
          "model_name": "HTMLModel",
          "model_module_version": "1.5.0",
          "state": {
            "_dom_classes": [],
            "_model_module": "@jupyter-widgets/controls",
            "_model_module_version": "1.5.0",
            "_model_name": "HTMLModel",
            "_view_count": null,
            "_view_module": "@jupyter-widgets/controls",
            "_view_module_version": "1.5.0",
            "_view_name": "HTMLView",
            "description": "",
            "description_tooltip": null,
            "layout": "IPY_MODEL_70c82ced66a44d438f83ce3291f07930",
            "placeholder": "​",
            "style": "IPY_MODEL_4ed842e35ce44332968cf2b724a88911",
            "value": "total_reward: 100%"
          }
        },
        "7bcce00230a44e3e93cfc628d4fa6243": {
          "model_module": "@jupyter-widgets/controls",
          "model_name": "FloatProgressModel",
          "model_module_version": "1.5.0",
          "state": {
            "_dom_classes": [],
            "_model_module": "@jupyter-widgets/controls",
            "_model_module_version": "1.5.0",
            "_model_name": "FloatProgressModel",
            "_view_count": null,
            "_view_module": "@jupyter-widgets/controls",
            "_view_module_version": "1.5.0",
            "_view_name": "ProgressView",
            "bar_style": "success",
            "description": "",
            "description_tooltip": null,
            "layout": "IPY_MODEL_b1706312e2a343c49340807de3f12713",
            "max": 100,
            "min": 0,
            "orientation": "horizontal",
            "style": "IPY_MODEL_fe939ff4072349458f3be17a51cd1645",
            "value": 100
          }
        },
        "0212e4e47df24ff48ebe19fda20de8db": {
          "model_module": "@jupyter-widgets/controls",
          "model_name": "HTMLModel",
          "model_module_version": "1.5.0",
          "state": {
            "_dom_classes": [],
            "_model_module": "@jupyter-widgets/controls",
            "_model_module_version": "1.5.0",
            "_model_name": "HTMLModel",
            "_view_count": null,
            "_view_module": "@jupyter-widgets/controls",
            "_view_module_version": "1.5.0",
            "_view_name": "HTMLView",
            "description": "",
            "description_tooltip": null,
            "layout": "IPY_MODEL_3de8fdb01d8f48e184cd56bdeefb8581",
            "placeholder": "​",
            "style": "IPY_MODEL_0db1083ec8834dac82a226d494ffa8ae",
            "value": " 100/100 [00:00&lt;00:00, 4068.11it/s]"
          }
        },
        "e7ed5fbe11c64f8486548f8d1954dcf9": {
          "model_module": "@jupyter-widgets/base",
          "model_name": "LayoutModel",
          "model_module_version": "1.2.0",
          "state": {
            "_model_module": "@jupyter-widgets/base",
            "_model_module_version": "1.2.0",
            "_model_name": "LayoutModel",
            "_view_count": null,
            "_view_module": "@jupyter-widgets/base",
            "_view_module_version": "1.2.0",
            "_view_name": "LayoutView",
            "align_content": null,
            "align_items": null,
            "align_self": null,
            "border": null,
            "bottom": null,
            "display": null,
            "flex": null,
            "flex_flow": null,
            "grid_area": null,
            "grid_auto_columns": null,
            "grid_auto_flow": null,
            "grid_auto_rows": null,
            "grid_column": null,
            "grid_gap": null,
            "grid_row": null,
            "grid_template_areas": null,
            "grid_template_columns": null,
            "grid_template_rows": null,
            "height": null,
            "justify_content": null,
            "justify_items": null,
            "left": null,
            "margin": null,
            "max_height": null,
            "max_width": null,
            "min_height": null,
            "min_width": null,
            "object_fit": null,
            "object_position": null,
            "order": null,
            "overflow": null,
            "overflow_x": null,
            "overflow_y": null,
            "padding": null,
            "right": null,
            "top": null,
            "visibility": null,
            "width": null
          }
        },
        "70c82ced66a44d438f83ce3291f07930": {
          "model_module": "@jupyter-widgets/base",
          "model_name": "LayoutModel",
          "model_module_version": "1.2.0",
          "state": {
            "_model_module": "@jupyter-widgets/base",
            "_model_module_version": "1.2.0",
            "_model_name": "LayoutModel",
            "_view_count": null,
            "_view_module": "@jupyter-widgets/base",
            "_view_module_version": "1.2.0",
            "_view_name": "LayoutView",
            "align_content": null,
            "align_items": null,
            "align_self": null,
            "border": null,
            "bottom": null,
            "display": null,
            "flex": null,
            "flex_flow": null,
            "grid_area": null,
            "grid_auto_columns": null,
            "grid_auto_flow": null,
            "grid_auto_rows": null,
            "grid_column": null,
            "grid_gap": null,
            "grid_row": null,
            "grid_template_areas": null,
            "grid_template_columns": null,
            "grid_template_rows": null,
            "height": null,
            "justify_content": null,
            "justify_items": null,
            "left": null,
            "margin": null,
            "max_height": null,
            "max_width": null,
            "min_height": null,
            "min_width": null,
            "object_fit": null,
            "object_position": null,
            "order": null,
            "overflow": null,
            "overflow_x": null,
            "overflow_y": null,
            "padding": null,
            "right": null,
            "top": null,
            "visibility": null,
            "width": null
          }
        },
        "4ed842e35ce44332968cf2b724a88911": {
          "model_module": "@jupyter-widgets/controls",
          "model_name": "DescriptionStyleModel",
          "model_module_version": "1.5.0",
          "state": {
            "_model_module": "@jupyter-widgets/controls",
            "_model_module_version": "1.5.0",
            "_model_name": "DescriptionStyleModel",
            "_view_count": null,
            "_view_module": "@jupyter-widgets/base",
            "_view_module_version": "1.2.0",
            "_view_name": "StyleView",
            "description_width": ""
          }
        },
        "b1706312e2a343c49340807de3f12713": {
          "model_module": "@jupyter-widgets/base",
          "model_name": "LayoutModel",
          "model_module_version": "1.2.0",
          "state": {
            "_model_module": "@jupyter-widgets/base",
            "_model_module_version": "1.2.0",
            "_model_name": "LayoutModel",
            "_view_count": null,
            "_view_module": "@jupyter-widgets/base",
            "_view_module_version": "1.2.0",
            "_view_name": "LayoutView",
            "align_content": null,
            "align_items": null,
            "align_self": null,
            "border": null,
            "bottom": null,
            "display": null,
            "flex": null,
            "flex_flow": null,
            "grid_area": null,
            "grid_auto_columns": null,
            "grid_auto_flow": null,
            "grid_auto_rows": null,
            "grid_column": null,
            "grid_gap": null,
            "grid_row": null,
            "grid_template_areas": null,
            "grid_template_columns": null,
            "grid_template_rows": null,
            "height": null,
            "justify_content": null,
            "justify_items": null,
            "left": null,
            "margin": null,
            "max_height": null,
            "max_width": null,
            "min_height": null,
            "min_width": null,
            "object_fit": null,
            "object_position": null,
            "order": null,
            "overflow": null,
            "overflow_x": null,
            "overflow_y": null,
            "padding": null,
            "right": null,
            "top": null,
            "visibility": null,
            "width": null
          }
        },
        "fe939ff4072349458f3be17a51cd1645": {
          "model_module": "@jupyter-widgets/controls",
          "model_name": "ProgressStyleModel",
          "model_module_version": "1.5.0",
          "state": {
            "_model_module": "@jupyter-widgets/controls",
            "_model_module_version": "1.5.0",
            "_model_name": "ProgressStyleModel",
            "_view_count": null,
            "_view_module": "@jupyter-widgets/base",
            "_view_module_version": "1.2.0",
            "_view_name": "StyleView",
            "bar_color": null,
            "description_width": ""
          }
        },
        "3de8fdb01d8f48e184cd56bdeefb8581": {
          "model_module": "@jupyter-widgets/base",
          "model_name": "LayoutModel",
          "model_module_version": "1.2.0",
          "state": {
            "_model_module": "@jupyter-widgets/base",
            "_model_module_version": "1.2.0",
            "_model_name": "LayoutModel",
            "_view_count": null,
            "_view_module": "@jupyter-widgets/base",
            "_view_module_version": "1.2.0",
            "_view_name": "LayoutView",
            "align_content": null,
            "align_items": null,
            "align_self": null,
            "border": null,
            "bottom": null,
            "display": null,
            "flex": null,
            "flex_flow": null,
            "grid_area": null,
            "grid_auto_columns": null,
            "grid_auto_flow": null,
            "grid_auto_rows": null,
            "grid_column": null,
            "grid_gap": null,
            "grid_row": null,
            "grid_template_areas": null,
            "grid_template_columns": null,
            "grid_template_rows": null,
            "height": null,
            "justify_content": null,
            "justify_items": null,
            "left": null,
            "margin": null,
            "max_height": null,
            "max_width": null,
            "min_height": null,
            "min_width": null,
            "object_fit": null,
            "object_position": null,
            "order": null,
            "overflow": null,
            "overflow_x": null,
            "overflow_y": null,
            "padding": null,
            "right": null,
            "top": null,
            "visibility": null,
            "width": null
          }
        },
        "0db1083ec8834dac82a226d494ffa8ae": {
          "model_module": "@jupyter-widgets/controls",
          "model_name": "DescriptionStyleModel",
          "model_module_version": "1.5.0",
          "state": {
            "_model_module": "@jupyter-widgets/controls",
            "_model_module_version": "1.5.0",
            "_model_name": "DescriptionStyleModel",
            "_view_count": null,
            "_view_module": "@jupyter-widgets/base",
            "_view_module_version": "1.2.0",
            "_view_name": "StyleView",
            "description_width": ""
          }
        },
        "41c9ce7711ce43af84ec7ec8e5ffb64c": {
          "model_module": "@jupyter-widgets/controls",
          "model_name": "HBoxModel",
          "model_module_version": "1.5.0",
          "state": {
            "_dom_classes": [],
            "_model_module": "@jupyter-widgets/controls",
            "_model_module_version": "1.5.0",
            "_model_name": "HBoxModel",
            "_view_count": null,
            "_view_module": "@jupyter-widgets/controls",
            "_view_module_version": "1.5.0",
            "_view_name": "HBoxView",
            "box_style": "",
            "children": [
              "IPY_MODEL_d6f5adb82d3c4a3aa04a4e64caeac219",
              "IPY_MODEL_35ba216318d1473194424f4df8569285",
              "IPY_MODEL_3d60d316d6c5474a9656eccb9320dd78"
            ],
            "layout": "IPY_MODEL_c3b7e726e6064cb59f9ae61084e928c7"
          }
        },
        "d6f5adb82d3c4a3aa04a4e64caeac219": {
          "model_module": "@jupyter-widgets/controls",
          "model_name": "HTMLModel",
          "model_module_version": "1.5.0",
          "state": {
            "_dom_classes": [],
            "_model_module": "@jupyter-widgets/controls",
            "_model_module_version": "1.5.0",
            "_model_name": "HTMLModel",
            "_view_count": null,
            "_view_module": "@jupyter-widgets/controls",
            "_view_module_version": "1.5.0",
            "_view_name": "HTMLView",
            "description": "",
            "description_tooltip": null,
            "layout": "IPY_MODEL_e8c8f9be5ffb4b7f8bde3d6522d8db2d",
            "placeholder": "​",
            "style": "IPY_MODEL_97b35d450db3447383a7f5ce11d21a9e",
            "value": "total_reward: 100%"
          }
        },
        "35ba216318d1473194424f4df8569285": {
          "model_module": "@jupyter-widgets/controls",
          "model_name": "FloatProgressModel",
          "model_module_version": "1.5.0",
          "state": {
            "_dom_classes": [],
            "_model_module": "@jupyter-widgets/controls",
            "_model_module_version": "1.5.0",
            "_model_name": "FloatProgressModel",
            "_view_count": null,
            "_view_module": "@jupyter-widgets/controls",
            "_view_module_version": "1.5.0",
            "_view_name": "ProgressView",
            "bar_style": "success",
            "description": "",
            "description_tooltip": null,
            "layout": "IPY_MODEL_117664d4da0c4775abcb1a8a5bb0e2b1",
            "max": 100,
            "min": 0,
            "orientation": "horizontal",
            "style": "IPY_MODEL_326e285231544b32bc5d20224e81546a",
            "value": 100
          }
        },
        "3d60d316d6c5474a9656eccb9320dd78": {
          "model_module": "@jupyter-widgets/controls",
          "model_name": "HTMLModel",
          "model_module_version": "1.5.0",
          "state": {
            "_dom_classes": [],
            "_model_module": "@jupyter-widgets/controls",
            "_model_module_version": "1.5.0",
            "_model_name": "HTMLModel",
            "_view_count": null,
            "_view_module": "@jupyter-widgets/controls",
            "_view_module_version": "1.5.0",
            "_view_name": "HTMLView",
            "description": "",
            "description_tooltip": null,
            "layout": "IPY_MODEL_6919d9e41b124436860e36a8ec752a20",
            "placeholder": "​",
            "style": "IPY_MODEL_0f3c8bf3a12f47aa8db4eeef764da2fe",
            "value": " 100/100 [00:00&lt;00:00, 3619.90it/s]"
          }
        },
        "c3b7e726e6064cb59f9ae61084e928c7": {
          "model_module": "@jupyter-widgets/base",
          "model_name": "LayoutModel",
          "model_module_version": "1.2.0",
          "state": {
            "_model_module": "@jupyter-widgets/base",
            "_model_module_version": "1.2.0",
            "_model_name": "LayoutModel",
            "_view_count": null,
            "_view_module": "@jupyter-widgets/base",
            "_view_module_version": "1.2.0",
            "_view_name": "LayoutView",
            "align_content": null,
            "align_items": null,
            "align_self": null,
            "border": null,
            "bottom": null,
            "display": null,
            "flex": null,
            "flex_flow": null,
            "grid_area": null,
            "grid_auto_columns": null,
            "grid_auto_flow": null,
            "grid_auto_rows": null,
            "grid_column": null,
            "grid_gap": null,
            "grid_row": null,
            "grid_template_areas": null,
            "grid_template_columns": null,
            "grid_template_rows": null,
            "height": null,
            "justify_content": null,
            "justify_items": null,
            "left": null,
            "margin": null,
            "max_height": null,
            "max_width": null,
            "min_height": null,
            "min_width": null,
            "object_fit": null,
            "object_position": null,
            "order": null,
            "overflow": null,
            "overflow_x": null,
            "overflow_y": null,
            "padding": null,
            "right": null,
            "top": null,
            "visibility": null,
            "width": null
          }
        },
        "e8c8f9be5ffb4b7f8bde3d6522d8db2d": {
          "model_module": "@jupyter-widgets/base",
          "model_name": "LayoutModel",
          "model_module_version": "1.2.0",
          "state": {
            "_model_module": "@jupyter-widgets/base",
            "_model_module_version": "1.2.0",
            "_model_name": "LayoutModel",
            "_view_count": null,
            "_view_module": "@jupyter-widgets/base",
            "_view_module_version": "1.2.0",
            "_view_name": "LayoutView",
            "align_content": null,
            "align_items": null,
            "align_self": null,
            "border": null,
            "bottom": null,
            "display": null,
            "flex": null,
            "flex_flow": null,
            "grid_area": null,
            "grid_auto_columns": null,
            "grid_auto_flow": null,
            "grid_auto_rows": null,
            "grid_column": null,
            "grid_gap": null,
            "grid_row": null,
            "grid_template_areas": null,
            "grid_template_columns": null,
            "grid_template_rows": null,
            "height": null,
            "justify_content": null,
            "justify_items": null,
            "left": null,
            "margin": null,
            "max_height": null,
            "max_width": null,
            "min_height": null,
            "min_width": null,
            "object_fit": null,
            "object_position": null,
            "order": null,
            "overflow": null,
            "overflow_x": null,
            "overflow_y": null,
            "padding": null,
            "right": null,
            "top": null,
            "visibility": null,
            "width": null
          }
        },
        "97b35d450db3447383a7f5ce11d21a9e": {
          "model_module": "@jupyter-widgets/controls",
          "model_name": "DescriptionStyleModel",
          "model_module_version": "1.5.0",
          "state": {
            "_model_module": "@jupyter-widgets/controls",
            "_model_module_version": "1.5.0",
            "_model_name": "DescriptionStyleModel",
            "_view_count": null,
            "_view_module": "@jupyter-widgets/base",
            "_view_module_version": "1.2.0",
            "_view_name": "StyleView",
            "description_width": ""
          }
        },
        "117664d4da0c4775abcb1a8a5bb0e2b1": {
          "model_module": "@jupyter-widgets/base",
          "model_name": "LayoutModel",
          "model_module_version": "1.2.0",
          "state": {
            "_model_module": "@jupyter-widgets/base",
            "_model_module_version": "1.2.0",
            "_model_name": "LayoutModel",
            "_view_count": null,
            "_view_module": "@jupyter-widgets/base",
            "_view_module_version": "1.2.0",
            "_view_name": "LayoutView",
            "align_content": null,
            "align_items": null,
            "align_self": null,
            "border": null,
            "bottom": null,
            "display": null,
            "flex": null,
            "flex_flow": null,
            "grid_area": null,
            "grid_auto_columns": null,
            "grid_auto_flow": null,
            "grid_auto_rows": null,
            "grid_column": null,
            "grid_gap": null,
            "grid_row": null,
            "grid_template_areas": null,
            "grid_template_columns": null,
            "grid_template_rows": null,
            "height": null,
            "justify_content": null,
            "justify_items": null,
            "left": null,
            "margin": null,
            "max_height": null,
            "max_width": null,
            "min_height": null,
            "min_width": null,
            "object_fit": null,
            "object_position": null,
            "order": null,
            "overflow": null,
            "overflow_x": null,
            "overflow_y": null,
            "padding": null,
            "right": null,
            "top": null,
            "visibility": null,
            "width": null
          }
        },
        "326e285231544b32bc5d20224e81546a": {
          "model_module": "@jupyter-widgets/controls",
          "model_name": "ProgressStyleModel",
          "model_module_version": "1.5.0",
          "state": {
            "_model_module": "@jupyter-widgets/controls",
            "_model_module_version": "1.5.0",
            "_model_name": "ProgressStyleModel",
            "_view_count": null,
            "_view_module": "@jupyter-widgets/base",
            "_view_module_version": "1.2.0",
            "_view_name": "StyleView",
            "bar_color": null,
            "description_width": ""
          }
        },
        "6919d9e41b124436860e36a8ec752a20": {
          "model_module": "@jupyter-widgets/base",
          "model_name": "LayoutModel",
          "model_module_version": "1.2.0",
          "state": {
            "_model_module": "@jupyter-widgets/base",
            "_model_module_version": "1.2.0",
            "_model_name": "LayoutModel",
            "_view_count": null,
            "_view_module": "@jupyter-widgets/base",
            "_view_module_version": "1.2.0",
            "_view_name": "LayoutView",
            "align_content": null,
            "align_items": null,
            "align_self": null,
            "border": null,
            "bottom": null,
            "display": null,
            "flex": null,
            "flex_flow": null,
            "grid_area": null,
            "grid_auto_columns": null,
            "grid_auto_flow": null,
            "grid_auto_rows": null,
            "grid_column": null,
            "grid_gap": null,
            "grid_row": null,
            "grid_template_areas": null,
            "grid_template_columns": null,
            "grid_template_rows": null,
            "height": null,
            "justify_content": null,
            "justify_items": null,
            "left": null,
            "margin": null,
            "max_height": null,
            "max_width": null,
            "min_height": null,
            "min_width": null,
            "object_fit": null,
            "object_position": null,
            "order": null,
            "overflow": null,
            "overflow_x": null,
            "overflow_y": null,
            "padding": null,
            "right": null,
            "top": null,
            "visibility": null,
            "width": null
          }
        },
        "0f3c8bf3a12f47aa8db4eeef764da2fe": {
          "model_module": "@jupyter-widgets/controls",
          "model_name": "DescriptionStyleModel",
          "model_module_version": "1.5.0",
          "state": {
            "_model_module": "@jupyter-widgets/controls",
            "_model_module_version": "1.5.0",
            "_model_name": "DescriptionStyleModel",
            "_view_count": null,
            "_view_module": "@jupyter-widgets/base",
            "_view_module_version": "1.2.0",
            "_view_name": "StyleView",
            "description_width": ""
          }
        },
        "eaf92c4594884b0aba953dc86b7ac411": {
          "model_module": "@jupyter-widgets/controls",
          "model_name": "HBoxModel",
          "model_module_version": "1.5.0",
          "state": {
            "_dom_classes": [],
            "_model_module": "@jupyter-widgets/controls",
            "_model_module_version": "1.5.0",
            "_model_name": "HBoxModel",
            "_view_count": null,
            "_view_module": "@jupyter-widgets/controls",
            "_view_module_version": "1.5.0",
            "_view_name": "HBoxView",
            "box_style": "",
            "children": [
              "IPY_MODEL_6ec26385ed5c4c998ddcd48b0c2028ed",
              "IPY_MODEL_d3f4790a916541bdac65fb86a26cba6e",
              "IPY_MODEL_f7fc9c4e82c0407a8243bda7328f135b"
            ],
            "layout": "IPY_MODEL_cf43ccd3d2cb4046b1aa13e0b7c96267"
          }
        },
        "6ec26385ed5c4c998ddcd48b0c2028ed": {
          "model_module": "@jupyter-widgets/controls",
          "model_name": "HTMLModel",
          "model_module_version": "1.5.0",
          "state": {
            "_dom_classes": [],
            "_model_module": "@jupyter-widgets/controls",
            "_model_module_version": "1.5.0",
            "_model_name": "HTMLModel",
            "_view_count": null,
            "_view_module": "@jupyter-widgets/controls",
            "_view_module_version": "1.5.0",
            "_view_name": "HTMLView",
            "description": "",
            "description_tooltip": null,
            "layout": "IPY_MODEL_0e2edd7fb55f40778b4178d66fee5df6",
            "placeholder": "​",
            "style": "IPY_MODEL_d1cd1979c965417a965ef42b95df1e66",
            "value": "rand: 100%"
          }
        },
        "d3f4790a916541bdac65fb86a26cba6e": {
          "model_module": "@jupyter-widgets/controls",
          "model_name": "FloatProgressModel",
          "model_module_version": "1.5.0",
          "state": {
            "_dom_classes": [],
            "_model_module": "@jupyter-widgets/controls",
            "_model_module_version": "1.5.0",
            "_model_name": "FloatProgressModel",
            "_view_count": null,
            "_view_module": "@jupyter-widgets/controls",
            "_view_module_version": "1.5.0",
            "_view_name": "ProgressView",
            "bar_style": "success",
            "description": "",
            "description_tooltip": null,
            "layout": "IPY_MODEL_473483c462364a279e2ab47991bbdfae",
            "max": 100,
            "min": 0,
            "orientation": "horizontal",
            "style": "IPY_MODEL_53d1362982b8441f83e56062ed02a986",
            "value": 100
          }
        },
        "f7fc9c4e82c0407a8243bda7328f135b": {
          "model_module": "@jupyter-widgets/controls",
          "model_name": "HTMLModel",
          "model_module_version": "1.5.0",
          "state": {
            "_dom_classes": [],
            "_model_module": "@jupyter-widgets/controls",
            "_model_module_version": "1.5.0",
            "_model_name": "HTMLModel",
            "_view_count": null,
            "_view_module": "@jupyter-widgets/controls",
            "_view_module_version": "1.5.0",
            "_view_name": "HTMLView",
            "description": "",
            "description_tooltip": null,
            "layout": "IPY_MODEL_025e83e4ac7244efbb2d683a9e313103",
            "placeholder": "​",
            "style": "IPY_MODEL_399ef6de251646ae8074d6571885ff17",
            "value": " 100/100 [00:53&lt;00:00,  1.17it/s]"
          }
        },
        "cf43ccd3d2cb4046b1aa13e0b7c96267": {
          "model_module": "@jupyter-widgets/base",
          "model_name": "LayoutModel",
          "model_module_version": "1.2.0",
          "state": {
            "_model_module": "@jupyter-widgets/base",
            "_model_module_version": "1.2.0",
            "_model_name": "LayoutModel",
            "_view_count": null,
            "_view_module": "@jupyter-widgets/base",
            "_view_module_version": "1.2.0",
            "_view_name": "LayoutView",
            "align_content": null,
            "align_items": null,
            "align_self": null,
            "border": null,
            "bottom": null,
            "display": null,
            "flex": null,
            "flex_flow": null,
            "grid_area": null,
            "grid_auto_columns": null,
            "grid_auto_flow": null,
            "grid_auto_rows": null,
            "grid_column": null,
            "grid_gap": null,
            "grid_row": null,
            "grid_template_areas": null,
            "grid_template_columns": null,
            "grid_template_rows": null,
            "height": null,
            "justify_content": null,
            "justify_items": null,
            "left": null,
            "margin": null,
            "max_height": null,
            "max_width": null,
            "min_height": null,
            "min_width": null,
            "object_fit": null,
            "object_position": null,
            "order": null,
            "overflow": null,
            "overflow_x": null,
            "overflow_y": null,
            "padding": null,
            "right": null,
            "top": null,
            "visibility": null,
            "width": null
          }
        },
        "0e2edd7fb55f40778b4178d66fee5df6": {
          "model_module": "@jupyter-widgets/base",
          "model_name": "LayoutModel",
          "model_module_version": "1.2.0",
          "state": {
            "_model_module": "@jupyter-widgets/base",
            "_model_module_version": "1.2.0",
            "_model_name": "LayoutModel",
            "_view_count": null,
            "_view_module": "@jupyter-widgets/base",
            "_view_module_version": "1.2.0",
            "_view_name": "LayoutView",
            "align_content": null,
            "align_items": null,
            "align_self": null,
            "border": null,
            "bottom": null,
            "display": null,
            "flex": null,
            "flex_flow": null,
            "grid_area": null,
            "grid_auto_columns": null,
            "grid_auto_flow": null,
            "grid_auto_rows": null,
            "grid_column": null,
            "grid_gap": null,
            "grid_row": null,
            "grid_template_areas": null,
            "grid_template_columns": null,
            "grid_template_rows": null,
            "height": null,
            "justify_content": null,
            "justify_items": null,
            "left": null,
            "margin": null,
            "max_height": null,
            "max_width": null,
            "min_height": null,
            "min_width": null,
            "object_fit": null,
            "object_position": null,
            "order": null,
            "overflow": null,
            "overflow_x": null,
            "overflow_y": null,
            "padding": null,
            "right": null,
            "top": null,
            "visibility": null,
            "width": null
          }
        },
        "d1cd1979c965417a965ef42b95df1e66": {
          "model_module": "@jupyter-widgets/controls",
          "model_name": "DescriptionStyleModel",
          "model_module_version": "1.5.0",
          "state": {
            "_model_module": "@jupyter-widgets/controls",
            "_model_module_version": "1.5.0",
            "_model_name": "DescriptionStyleModel",
            "_view_count": null,
            "_view_module": "@jupyter-widgets/base",
            "_view_module_version": "1.2.0",
            "_view_name": "StyleView",
            "description_width": ""
          }
        },
        "473483c462364a279e2ab47991bbdfae": {
          "model_module": "@jupyter-widgets/base",
          "model_name": "LayoutModel",
          "model_module_version": "1.2.0",
          "state": {
            "_model_module": "@jupyter-widgets/base",
            "_model_module_version": "1.2.0",
            "_model_name": "LayoutModel",
            "_view_count": null,
            "_view_module": "@jupyter-widgets/base",
            "_view_module_version": "1.2.0",
            "_view_name": "LayoutView",
            "align_content": null,
            "align_items": null,
            "align_self": null,
            "border": null,
            "bottom": null,
            "display": null,
            "flex": null,
            "flex_flow": null,
            "grid_area": null,
            "grid_auto_columns": null,
            "grid_auto_flow": null,
            "grid_auto_rows": null,
            "grid_column": null,
            "grid_gap": null,
            "grid_row": null,
            "grid_template_areas": null,
            "grid_template_columns": null,
            "grid_template_rows": null,
            "height": null,
            "justify_content": null,
            "justify_items": null,
            "left": null,
            "margin": null,
            "max_height": null,
            "max_width": null,
            "min_height": null,
            "min_width": null,
            "object_fit": null,
            "object_position": null,
            "order": null,
            "overflow": null,
            "overflow_x": null,
            "overflow_y": null,
            "padding": null,
            "right": null,
            "top": null,
            "visibility": null,
            "width": null
          }
        },
        "53d1362982b8441f83e56062ed02a986": {
          "model_module": "@jupyter-widgets/controls",
          "model_name": "ProgressStyleModel",
          "model_module_version": "1.5.0",
          "state": {
            "_model_module": "@jupyter-widgets/controls",
            "_model_module_version": "1.5.0",
            "_model_name": "ProgressStyleModel",
            "_view_count": null,
            "_view_module": "@jupyter-widgets/base",
            "_view_module_version": "1.2.0",
            "_view_name": "StyleView",
            "bar_color": null,
            "description_width": ""
          }
        },
        "025e83e4ac7244efbb2d683a9e313103": {
          "model_module": "@jupyter-widgets/base",
          "model_name": "LayoutModel",
          "model_module_version": "1.2.0",
          "state": {
            "_model_module": "@jupyter-widgets/base",
            "_model_module_version": "1.2.0",
            "_model_name": "LayoutModel",
            "_view_count": null,
            "_view_module": "@jupyter-widgets/base",
            "_view_module_version": "1.2.0",
            "_view_name": "LayoutView",
            "align_content": null,
            "align_items": null,
            "align_self": null,
            "border": null,
            "bottom": null,
            "display": null,
            "flex": null,
            "flex_flow": null,
            "grid_area": null,
            "grid_auto_columns": null,
            "grid_auto_flow": null,
            "grid_auto_rows": null,
            "grid_column": null,
            "grid_gap": null,
            "grid_row": null,
            "grid_template_areas": null,
            "grid_template_columns": null,
            "grid_template_rows": null,
            "height": null,
            "justify_content": null,
            "justify_items": null,
            "left": null,
            "margin": null,
            "max_height": null,
            "max_width": null,
            "min_height": null,
            "min_width": null,
            "object_fit": null,
            "object_position": null,
            "order": null,
            "overflow": null,
            "overflow_x": null,
            "overflow_y": null,
            "padding": null,
            "right": null,
            "top": null,
            "visibility": null,
            "width": null
          }
        },
        "399ef6de251646ae8074d6571885ff17": {
          "model_module": "@jupyter-widgets/controls",
          "model_name": "DescriptionStyleModel",
          "model_module_version": "1.5.0",
          "state": {
            "_model_module": "@jupyter-widgets/controls",
            "_model_module_version": "1.5.0",
            "_model_name": "DescriptionStyleModel",
            "_view_count": null,
            "_view_module": "@jupyter-widgets/base",
            "_view_module_version": "1.2.0",
            "_view_name": "StyleView",
            "description_width": ""
          }
        },
        "1fe082de7013477384b621554e46d6b5": {
          "model_module": "@jupyter-widgets/controls",
          "model_name": "HBoxModel",
          "model_module_version": "1.5.0",
          "state": {
            "_dom_classes": [],
            "_model_module": "@jupyter-widgets/controls",
            "_model_module_version": "1.5.0",
            "_model_name": "HBoxModel",
            "_view_count": null,
            "_view_module": "@jupyter-widgets/controls",
            "_view_module_version": "1.5.0",
            "_view_name": "HBoxView",
            "box_style": "",
            "children": [
              "IPY_MODEL_04857e3503ca42289900b9c5c27101e3",
              "IPY_MODEL_caf920c8245647fc9def1cf903afdd09",
              "IPY_MODEL_aaca4ef77e684f0aa861dea7f8151799"
            ],
            "layout": "IPY_MODEL_b29123d75d9b46ffb765f7df3ab77b63"
          }
        },
        "04857e3503ca42289900b9c5c27101e3": {
          "model_module": "@jupyter-widgets/controls",
          "model_name": "HTMLModel",
          "model_module_version": "1.5.0",
          "state": {
            "_dom_classes": [],
            "_model_module": "@jupyter-widgets/controls",
            "_model_module_version": "1.5.0",
            "_model_name": "HTMLModel",
            "_view_count": null,
            "_view_module": "@jupyter-widgets/controls",
            "_view_module_version": "1.5.0",
            "_view_name": "HTMLView",
            "description": "",
            "description_tooltip": null,
            "layout": "IPY_MODEL_f21cdcfa0b994fcba372401e6d8d38a7",
            "placeholder": "​",
            "style": "IPY_MODEL_3f43d5db0ee54a90a9f03c6d9744a645",
            "value": "chemo: 100%"
          }
        },
        "caf920c8245647fc9def1cf903afdd09": {
          "model_module": "@jupyter-widgets/controls",
          "model_name": "FloatProgressModel",
          "model_module_version": "1.5.0",
          "state": {
            "_dom_classes": [],
            "_model_module": "@jupyter-widgets/controls",
            "_model_module_version": "1.5.0",
            "_model_name": "FloatProgressModel",
            "_view_count": null,
            "_view_module": "@jupyter-widgets/controls",
            "_view_module_version": "1.5.0",
            "_view_name": "ProgressView",
            "bar_style": "success",
            "description": "",
            "description_tooltip": null,
            "layout": "IPY_MODEL_30c1acf93a534ce49d4a74053764f6ee",
            "max": 100,
            "min": 0,
            "orientation": "horizontal",
            "style": "IPY_MODEL_457adac539b84932a4fa018ff9ed7333",
            "value": 100
          }
        },
        "aaca4ef77e684f0aa861dea7f8151799": {
          "model_module": "@jupyter-widgets/controls",
          "model_name": "HTMLModel",
          "model_module_version": "1.5.0",
          "state": {
            "_dom_classes": [],
            "_model_module": "@jupyter-widgets/controls",
            "_model_module_version": "1.5.0",
            "_model_name": "HTMLModel",
            "_view_count": null,
            "_view_module": "@jupyter-widgets/controls",
            "_view_module_version": "1.5.0",
            "_view_name": "HTMLView",
            "description": "",
            "description_tooltip": null,
            "layout": "IPY_MODEL_349159ee1f794f65ada7c83e32fc0b62",
            "placeholder": "​",
            "style": "IPY_MODEL_fffe68a84d6c4840b7f89adbc89882cc",
            "value": " 100/100 [00:49&lt;00:00,  2.45it/s]"
          }
        },
        "b29123d75d9b46ffb765f7df3ab77b63": {
          "model_module": "@jupyter-widgets/base",
          "model_name": "LayoutModel",
          "model_module_version": "1.2.0",
          "state": {
            "_model_module": "@jupyter-widgets/base",
            "_model_module_version": "1.2.0",
            "_model_name": "LayoutModel",
            "_view_count": null,
            "_view_module": "@jupyter-widgets/base",
            "_view_module_version": "1.2.0",
            "_view_name": "LayoutView",
            "align_content": null,
            "align_items": null,
            "align_self": null,
            "border": null,
            "bottom": null,
            "display": null,
            "flex": null,
            "flex_flow": null,
            "grid_area": null,
            "grid_auto_columns": null,
            "grid_auto_flow": null,
            "grid_auto_rows": null,
            "grid_column": null,
            "grid_gap": null,
            "grid_row": null,
            "grid_template_areas": null,
            "grid_template_columns": null,
            "grid_template_rows": null,
            "height": null,
            "justify_content": null,
            "justify_items": null,
            "left": null,
            "margin": null,
            "max_height": null,
            "max_width": null,
            "min_height": null,
            "min_width": null,
            "object_fit": null,
            "object_position": null,
            "order": null,
            "overflow": null,
            "overflow_x": null,
            "overflow_y": null,
            "padding": null,
            "right": null,
            "top": null,
            "visibility": null,
            "width": null
          }
        },
        "f21cdcfa0b994fcba372401e6d8d38a7": {
          "model_module": "@jupyter-widgets/base",
          "model_name": "LayoutModel",
          "model_module_version": "1.2.0",
          "state": {
            "_model_module": "@jupyter-widgets/base",
            "_model_module_version": "1.2.0",
            "_model_name": "LayoutModel",
            "_view_count": null,
            "_view_module": "@jupyter-widgets/base",
            "_view_module_version": "1.2.0",
            "_view_name": "LayoutView",
            "align_content": null,
            "align_items": null,
            "align_self": null,
            "border": null,
            "bottom": null,
            "display": null,
            "flex": null,
            "flex_flow": null,
            "grid_area": null,
            "grid_auto_columns": null,
            "grid_auto_flow": null,
            "grid_auto_rows": null,
            "grid_column": null,
            "grid_gap": null,
            "grid_row": null,
            "grid_template_areas": null,
            "grid_template_columns": null,
            "grid_template_rows": null,
            "height": null,
            "justify_content": null,
            "justify_items": null,
            "left": null,
            "margin": null,
            "max_height": null,
            "max_width": null,
            "min_height": null,
            "min_width": null,
            "object_fit": null,
            "object_position": null,
            "order": null,
            "overflow": null,
            "overflow_x": null,
            "overflow_y": null,
            "padding": null,
            "right": null,
            "top": null,
            "visibility": null,
            "width": null
          }
        },
        "3f43d5db0ee54a90a9f03c6d9744a645": {
          "model_module": "@jupyter-widgets/controls",
          "model_name": "DescriptionStyleModel",
          "model_module_version": "1.5.0",
          "state": {
            "_model_module": "@jupyter-widgets/controls",
            "_model_module_version": "1.5.0",
            "_model_name": "DescriptionStyleModel",
            "_view_count": null,
            "_view_module": "@jupyter-widgets/base",
            "_view_module_version": "1.2.0",
            "_view_name": "StyleView",
            "description_width": ""
          }
        },
        "30c1acf93a534ce49d4a74053764f6ee": {
          "model_module": "@jupyter-widgets/base",
          "model_name": "LayoutModel",
          "model_module_version": "1.2.0",
          "state": {
            "_model_module": "@jupyter-widgets/base",
            "_model_module_version": "1.2.0",
            "_model_name": "LayoutModel",
            "_view_count": null,
            "_view_module": "@jupyter-widgets/base",
            "_view_module_version": "1.2.0",
            "_view_name": "LayoutView",
            "align_content": null,
            "align_items": null,
            "align_self": null,
            "border": null,
            "bottom": null,
            "display": null,
            "flex": null,
            "flex_flow": null,
            "grid_area": null,
            "grid_auto_columns": null,
            "grid_auto_flow": null,
            "grid_auto_rows": null,
            "grid_column": null,
            "grid_gap": null,
            "grid_row": null,
            "grid_template_areas": null,
            "grid_template_columns": null,
            "grid_template_rows": null,
            "height": null,
            "justify_content": null,
            "justify_items": null,
            "left": null,
            "margin": null,
            "max_height": null,
            "max_width": null,
            "min_height": null,
            "min_width": null,
            "object_fit": null,
            "object_position": null,
            "order": null,
            "overflow": null,
            "overflow_x": null,
            "overflow_y": null,
            "padding": null,
            "right": null,
            "top": null,
            "visibility": null,
            "width": null
          }
        },
        "457adac539b84932a4fa018ff9ed7333": {
          "model_module": "@jupyter-widgets/controls",
          "model_name": "ProgressStyleModel",
          "model_module_version": "1.5.0",
          "state": {
            "_model_module": "@jupyter-widgets/controls",
            "_model_module_version": "1.5.0",
            "_model_name": "ProgressStyleModel",
            "_view_count": null,
            "_view_module": "@jupyter-widgets/base",
            "_view_module_version": "1.2.0",
            "_view_name": "StyleView",
            "bar_color": null,
            "description_width": ""
          }
        },
        "349159ee1f794f65ada7c83e32fc0b62": {
          "model_module": "@jupyter-widgets/base",
          "model_name": "LayoutModel",
          "model_module_version": "1.2.0",
          "state": {
            "_model_module": "@jupyter-widgets/base",
            "_model_module_version": "1.2.0",
            "_model_name": "LayoutModel",
            "_view_count": null,
            "_view_module": "@jupyter-widgets/base",
            "_view_module_version": "1.2.0",
            "_view_name": "LayoutView",
            "align_content": null,
            "align_items": null,
            "align_self": null,
            "border": null,
            "bottom": null,
            "display": null,
            "flex": null,
            "flex_flow": null,
            "grid_area": null,
            "grid_auto_columns": null,
            "grid_auto_flow": null,
            "grid_auto_rows": null,
            "grid_column": null,
            "grid_gap": null,
            "grid_row": null,
            "grid_template_areas": null,
            "grid_template_columns": null,
            "grid_template_rows": null,
            "height": null,
            "justify_content": null,
            "justify_items": null,
            "left": null,
            "margin": null,
            "max_height": null,
            "max_width": null,
            "min_height": null,
            "min_width": null,
            "object_fit": null,
            "object_position": null,
            "order": null,
            "overflow": null,
            "overflow_x": null,
            "overflow_y": null,
            "padding": null,
            "right": null,
            "top": null,
            "visibility": null,
            "width": null
          }
        },
        "fffe68a84d6c4840b7f89adbc89882cc": {
          "model_module": "@jupyter-widgets/controls",
          "model_name": "DescriptionStyleModel",
          "model_module_version": "1.5.0",
          "state": {
            "_model_module": "@jupyter-widgets/controls",
            "_model_module_version": "1.5.0",
            "_model_name": "DescriptionStyleModel",
            "_view_count": null,
            "_view_module": "@jupyter-widgets/base",
            "_view_module_version": "1.2.0",
            "_view_name": "StyleView",
            "description_width": ""
          }
        }
      }
    }
  },
  "nbformat": 4,
  "nbformat_minor": 0
}