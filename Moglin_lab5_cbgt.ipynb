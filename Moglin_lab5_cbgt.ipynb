{
  "cells": [
    {
      "cell_type": "markdown",
      "metadata": {
        "id": "view-in-github",
        "colab_type": "text"
      },
      "source": [
        "<a href=\"https://colab.research.google.com/github/rmoglin/BIX_F24/blob/main/Moglin_lab5_cbgt.ipynb\" target=\"_parent\"><img src=\"https://colab.research.google.com/assets/colab-badge.svg\" alt=\"Open In Colab\"/></a>"
      ]
    },
    {
      "cell_type": "markdown",
      "metadata": {
        "id": "BN9d9GL8v4ZB"
      },
      "source": [
        "# Lab 5 - CBGT pathways\n",
        "\n",
        "This lab has 3 main components designed to go over how corticobasal ganglia-thalamic (CBGT) circuits make decisions. We will use a model of this sytem to run simulations and investigate the effects of tuning different aspects of the circuit.\n",
        "\n",
        "Sections:\n",
        "1. Run the baseline network, visualize simulated brain region activity patterns, and understand interactions.\n",
        "1. Investigate the effects of direct pathway strength.\n",
        "1. Investigate the effects of indirect pathway strength."
      ]
    },
    {
      "cell_type": "markdown",
      "metadata": {
        "id": "liN0-FLkA64A"
      },
      "source": [
        "## Section 0 - Setup\n",
        "\n",
        "Run all of the following code cells, which set up the environment and define several helper functions that we will use to run CBGT decision simulations.\n",
        "\n"
      ]
    },
    {
      "cell_type": "markdown",
      "metadata": {
        "id": "8x0O6srvni9W"
      },
      "source": [
        "### Load in CBGT modeling code library\n",
        "\n",
        "The code cell below sets the current working directory for Colab, into which we will load the CBGT library. This is the usual `/content` directory."
      ]
    },
    {
      "cell_type": "code",
      "execution_count": 1,
      "metadata": {
        "id": "rXobH-hMKKpG",
        "colab": {
          "base_uri": "https://localhost:8080/"
        },
        "outputId": "3c004fec-5868-4ea2-ad79-e78bba9ef28b"
      },
      "outputs": [
        {
          "output_type": "stream",
          "name": "stdout",
          "text": [
            "/content\n"
          ]
        }
      ],
      "source": [
        "cd /content"
      ]
    },
    {
      "cell_type": "markdown",
      "metadata": {
        "id": "QnCoXA7Topx7"
      },
      "source": [
        "Copy the CBGT simulation library from the CoAx lab GitHub to our Colab notebook (in the `/content` directory specified above)."
      ]
    },
    {
      "cell_type": "code",
      "execution_count": 2,
      "metadata": {
        "id": "e3aPyOutMqPC",
        "colab": {
          "base_uri": "https://localhost:8080/"
        },
        "outputId": "c6a36d69-4cf7-4083-ecbc-be1a2bc47354"
      },
      "outputs": [
        {
          "output_type": "stream",
          "name": "stdout",
          "text": [
            "Cloning into 'CBGT'...\n",
            "remote: Enumerating objects: 604, done.\u001b[K\n",
            "remote: Counting objects: 100% (23/23), done.\u001b[K\n",
            "remote: Compressing objects: 100% (23/23), done.\u001b[K\n",
            "remote: Total 604 (delta 10), reused 5 (delta 0), pack-reused 581 (from 1)\u001b[K\n",
            "Receiving objects: 100% (604/604), 13.84 MiB | 8.54 MiB/s, done.\n",
            "Resolving deltas: 100% (322/322), done.\n"
          ]
        }
      ],
      "source": [
        "!git clone https://github.com/CoAxLab/CBGT"
      ]
    },
    {
      "cell_type": "markdown",
      "metadata": {
        "id": "PHMExRBqpRfj"
      },
      "source": [
        "This next code line sets Colab's working directory to the CGBT library which we've just copied in."
      ]
    },
    {
      "cell_type": "code",
      "execution_count": 3,
      "metadata": {
        "id": "5fASER8gOr-n"
      },
      "outputs": [],
      "source": [
        "import os\n",
        "os.chdir('CBGT')"
      ]
    },
    {
      "cell_type": "markdown",
      "metadata": {
        "id": "ofK_-UenpvS5"
      },
      "source": [
        "The code cell below imports libraries that the later code will need. These are libraries for performing mathematical calculations, structuring data, and plotting figures.\n",
        "\n",
        "The code also sets configurations for a prettier plots."
      ]
    },
    {
      "cell_type": "code",
      "execution_count": 4,
      "metadata": {
        "id": "G9-MUIecO2YF"
      },
      "outputs": [],
      "source": [
        "# import libraries and configure plots\n",
        "import sys\n",
        "import pandas as pd\n",
        "import numpy as np\n",
        "import random\n",
        "from future.utils import listvalues\n",
        "from copy import deepcopy\n",
        "\n",
        "import cbgt.netgen as ng\n",
        "import cbgt.analyzefx as afx\n",
        "from cbgt import vis, sim\n",
        "\n",
        "import matplotlib.pyplot as plt\n",
        "import seaborn as sns\n",
        "import warnings\n",
        "\n",
        "warnings.simplefilter('ignore', np.RankWarning)\n",
        "warnings.filterwarnings(\"ignore\", module=\"matplotlib\")\n",
        "warnings.filterwarnings(\"ignore\")\n",
        "\n",
        "%matplotlib inline\n",
        "clrs = ['#347fff', '#febe08']\n",
        "eclrs = ['#1657de', '#f5a005']\n",
        "\n",
        "rc = {'lines.solid_capstyle': u'butt'}\n",
        "sns.set(style='ticks', rc=rc, font_scale=1.4)"
      ]
    },
    {
      "cell_type": "markdown",
      "metadata": {
        "id": "P5Iw88rg9WPO"
      },
      "source": [
        "This next code cell specifies a directory in our Colab environment for saving data so that the simulations we run can log their records.\n",
        "\n",
        "The code cell also specifies default model parameters, including the number of choices (`Choices = 2`) in the task.\n",
        "\n",
        "The code also saves a preset of dMSN and iMSN weights for each action/choice channel (see `dMSN=[1.01, 0.99]`). This simulates the condition of the network after some learning. Here we have weight of 1.01 for the left dMSNs vs 0.99. for right dMSNs. This simulates how the network might look after learning that the right choice was more rewarding than the left.\n",
        "\n",
        "Note: in this lab, we will only be using the `presetLow` preset, left and right dMSN weightings are closer (a slightly higher conflict condition)."
      ]
    },
    {
      "cell_type": "code",
      "execution_count": 5,
      "metadata": {
        "id": "v_ewedywPQAl"
      },
      "outputs": [],
      "source": [
        "# specify saving directory\n",
        "\n",
        "parentDir = 'cbgtDemoTEST'\n",
        "savedir = os.path.join(os.path.expanduser('~'), parentDir)\n",
        "if not os.path.isdir(savedir):\n",
        "    os.mkdir(savedir)\n",
        "\n",
        "# specify certain model parameters\n",
        "\n",
        "BaseStim = 0\n",
        "Stim = 2.54\n",
        "Dynamic = 30.0\n",
        "Choices = 2\n",
        "rampingCTX = True\n",
        "popscale = .3\n",
        "Start=200\n",
        "\n",
        "# save dMSN/iMSN weight presets for each choice\n",
        "\n",
        "presetLow = ng.set_post_learning_weights(dMSN=[1.01, 0.99], iMSN=[1.0,1.0])\n",
        "presetHi = ng.set_post_learning_weights(dMSN=[1.03, 0.98], iMSN=[1.0,1.0])\n",
        "presets = [presetLow, presetHi]\n",
        "\n",
        "conds = ['low', 'high']\n",
        "condABC = ['a', 'b']\n",
        "cond12 = [1, 2]\n",
        "\n",
        "savedirs = [os.path.join(savedir, c) for c in conds]\n",
        "saveLow, saveHi = savedirs\n",
        "saveTest=os.path.join(savedir, 'test')\n",
        "\n",
        "presetDict = dict(zip(conds, presets))\n",
        "condOrder = dict(zip(conds, condABC))\n",
        "condLevel = dict(zip(conds+['test'], cond12+[0]))"
      ]
    },
    {
      "cell_type": "markdown",
      "metadata": {
        "id": "5ASjYnqbAvBY"
      },
      "source": [
        "This next code cell defines and builds the CBGT network which we will use to run simulations. The code defines distributiuons of background activity for each brain region in the network and specifies connections between the regions."
      ]
    },
    {
      "cell_type": "code",
      "execution_count": 6,
      "metadata": {
        "id": "dxLaAupjPQD-"
      },
      "outputs": [],
      "source": [
        "# helper functions to specify connection efficiacies for certain pathways\n",
        "\n",
        "def get_sampling_params(scale, direct_strength, indirect_strength):\n",
        "\n",
        "    # set strengths of background inputs/currents\n",
        "    CxSTR      =    0.2\n",
        "    CxTh       =    0.03\n",
        "    CxFSI      =    0.165\n",
        "    D1STR_GPi  =    direct_strength * 1.10\n",
        "    D2STR_GPeP =    indirect_strength * 1.65\n",
        "    STN_GPeP_A =    0.07\n",
        "    STN_GPeP_N =    4.01\n",
        "    STN_GPi    =    0.0324\n",
        "    GPi_Th     =    0.067\n",
        "    ThSTR      =    0.34\n",
        "    ThCx       =    0.02\n",
        "\n",
        "    mu = dict(Cx={'STR':CxSTR, 'Th':CxTh, 'FSI':CxFSI},\n",
        "                Th={'STR':ThSTR, 'Cx':ThCx},\n",
        "                D1STR={'GPi': D1STR_GPi},\n",
        "                D2STR={'GPeP': D2STR_GPeP},\n",
        "                STN={'GPi': STN_GPi},\n",
        "                GPi={'Th': GPi_Th})\n",
        "    sd = {i:{j: mu[i][j]*scale for j in list(mu[i])} for i in list(mu)}\n",
        "    return mu, sd\n",
        "\n",
        "# assign the background inputs to each brain region accordingly\n",
        "def sample_network_efficacies(muEff, sdEff, N):\n",
        "    X = {}\n",
        "    nuclei = list(muEff)\n",
        "    for i in nuclei:\n",
        "        targets = list(muEff[i])\n",
        "        X[i] = {}\n",
        "        for j in targets:\n",
        "            X[i][j] = np.random.normal(muEff[i][j], sdEff[i][j], N)\n",
        "    return X\n",
        "\n",
        "# build the network with specified connections\n",
        "def build_single_network(X, idx=0):\n",
        "\n",
        "    Cx={'STR': X['Cx']['STR'][idx],\n",
        "        'Th': X['Cx']['Th'][idx],\n",
        "        'FSI': X['Cx']['FSI'][idx]}\n",
        "\n",
        "    D1STR={'GPi': X['D1STR']['GPi'][idx]}\n",
        "    D2STR={'GPeP': X['D2STR']['GPeP'][idx]}\n",
        "\n",
        "    STN={'GPi': X['STN']['GPi'][idx]}\n",
        "\n",
        "    GPi={'Th': X['GPi']['Th'][idx]}\n",
        "\n",
        "    Th={'STR': X['Th']['STR'][idx],\n",
        "        'Cx': X['Th']['Cx'][idx]}\n",
        "\n",
        "    return ng.getConEff(Cx=Cx, D1STR=D1STR, D2STR=D2STR, STN=STN, GPi=GPi, Th=Th)"
      ]
    },
    {
      "cell_type": "markdown",
      "metadata": {
        "id": "XAg1V2l6BSUx"
      },
      "source": [
        "This code cell defines a helper function for running a bath of simulations. The number of simulations (runs of the model leading to a single choice) to perform is specified via the `batch_size` parameter. The simulations are independent and do not cause plasticity (learning/changing in weights) - instead they run the network each time with the simulated post-learning weights we specified earlier (specifically using the low preset we defined earlier - see `preset = presetDict['low']`)."
      ]
    },
    {
      "cell_type": "code",
      "execution_count": 7,
      "metadata": {
        "id": "Smfq0Z-UEnl-"
      },
      "outputs": [],
      "source": [
        "# code to run a batch of simulations\n",
        "\n",
        "def runBatch(batch_size, direct_strength, indirect_strength, parallel = 1):\n",
        "  N_subj = 1\n",
        "  sdScale = 0\n",
        "\n",
        "  conProb = ng.getConProb()\n",
        "  muEff, sdEff = get_sampling_params(sdScale, direct_strength, indirect_strength)\n",
        "  X = sample_network_efficacies(muEff, sdEff, N=N_subj)\n",
        "  subj_eff_dicts = [build_single_network(X, idx=i) for i in range(N_subj)]\n",
        "  idx = 0\n",
        "  conEff_i = subj_eff_dicts[idx]\n",
        "\n",
        "  stim = 2.5\n",
        "  preset = presetDict['low']\n",
        "\n",
        "  ng.setDirectory(saveTest)\n",
        "\n",
        "  np.random.seed(seed=np.random.randint(0,1000))\n",
        "  sweepcount = ng.configureSweep(0, experiment='mc', preset=preset, Start=Start,\n",
        "                                popscale=popscale, BaseStim=BaseStim, Choices=Choices,\n",
        "                                WrongStim=stim, RightStim=stim, Dynamic=Dynamic,\n",
        "                                rampingCTX=True,\n",
        "                                conProb=conProb,\n",
        "                                conEff=conEff_i)\n",
        "\n",
        "  ng.compileAndRunSweepALL(batch_size, 0, 1, parallel)"
      ]
    },
    {
      "cell_type": "markdown",
      "metadata": {
        "id": "d7fWqDDTDuxQ"
      },
      "source": [
        "The code cell below just defines a helper function that we will use to collect and structure simulation  reaction time and accuracy results into a nice data table."
      ]
    },
    {
      "cell_type": "code",
      "execution_count": 8,
      "metadata": {
        "id": "4rfAoCC5AG5C"
      },
      "outputs": [],
      "source": [
        "# code to compile the behavioral data into a dataframe\n",
        "\n",
        "def readResults(batch_size):\n",
        "    results = ng.readAllTrialResults(batch_size,0,1)\n",
        "    rtdata = pd.DataFrame(columns=['rt','accuracy'])\n",
        "    for result in results[0][:batch_size]:\n",
        "        temp = ng.findOutputs(result)['decision made']\n",
        "        row = pd.Series({'rt':temp['delay'], 'accuracy':(1-temp['pathvals'][0])})\n",
        "        # rtdata = rtdata.append(row, ignore_index=True)\n",
        "        rtdata = pd.concat([rtdata, row.to_frame().T], ignore_index=True)\n",
        "    return rtdata"
      ]
    },
    {
      "cell_type": "markdown",
      "metadata": {
        "id": "u4OL5QFo3Ynl"
      },
      "source": [
        "## Section 1 - Running the baseline network\n",
        "\n",
        "In this section we will run the baseline network, visualize simulated brain region activity patterns, and note interactions to get a sense of how the CGBT network implements decisions."
      ]
    },
    {
      "cell_type": "markdown",
      "metadata": {
        "id": "JvlyGxW73xX9"
      },
      "source": [
        "### About this network model\n",
        "\n",
        "This simulation has been repackaged from (Dunovan et al., 2019).\n",
        "* There are two parallel action channels which compete against each other, one for the ‘Left’ action and one for the ‘Right’ action.\n",
        "* Each action channel contains its own cortex/striatum/GPe/GPi/thalamus populations.\n",
        "* Each trial, stimulation is applied to the cortex, which drives activity in the striatum.\n",
        "* Some striatal neurons inhibit the GPe (this is the indirect pathway), while others inhibit the GPi (the direct pathway). The ultimate result is a disinhibition of the thalamus, and the thalamus population (either Left or Right) which rises fastest represents the selected action.\n",
        "* The cortico-striatal connections have been tipped slightly in the favor of the Left action (representing the Left action being slightly more rewarding on average). So, a Left decision by the network is considered ‘Correct’ (since the ‘Left’ action has the highest expected reward), while a Right decision by the network is considered ‘Incorrect’."
      ]
    },
    {
      "cell_type": "markdown",
      "metadata": {
        "id": "5DRFu4j9F31n"
      },
      "source": [
        "![](https://raw.githubusercontent.com/CoAxLab/BiologicallyIntelligentExploration/main/Labs/CBGT_screenshot.png)\n",
        "\n",
        "### How selection works in this model\n",
        "\n",
        "During the selection process (between choices during decision making), stimulation is applied to the cortex, causing cortical activity to ramp upwards. The cortex then feeds into the direct and indirect populations of the striatum, which then affects the firing rates in other areas of the basal ganglia. The diagram in the lecture slides shows which populations are excitatory (increase activation) and which are inhibitory (reduce activation).\n"
      ]
    },
    {
      "cell_type": "markdown",
      "source": [
        "---\n",
        "### Question 1.1\n",
        "\n",
        "During the selection process, will the activity of the following populations increase or decrease? [Assume that the hyperdirect pathway from the cortex to the subthalamic nucleus (STN) in red is NOT undergoing any changes.]"
      ],
      "metadata": {
        "id": "YxGB__RQUnnb"
      }
    },
    {
      "cell_type": "code",
      "execution_count": 9,
      "metadata": {
        "id": "wyBgMsguwNFd"
      },
      "outputs": [],
      "source": [
        "# Fill in the areas below with your answers (\"inc\" or \"dec\")\n",
        "\n",
        "# |inc/dec| Region\n",
        "# +-------+-----------------------------------------------------------------\n",
        "# |  inc  | Cortex   - increase, due to applied current\n",
        "# |  inc  | Thalamus - increase, this area receives the output of the basal ganglia network\n",
        "# |  inc  | dMSN (striatal neurons in green which start the direct pathway)\n",
        "# |  dec | iMSN (striatal neurons in blue which start the indirect pathway)\n",
        "# |  inc  | GPe  (external globus pallidus, in blue)\n",
        "# |  dec  | GPi  (internal globus pallidus)\n",
        "# |  inc  | STN  (subthalamic nucleus)"
      ]
    },
    {
      "cell_type": "markdown",
      "metadata": {
        "id": "6IcvasK35WZE"
      },
      "source": [
        "Note: network dynamics can be very complicated and depend on a lot of factors - there's no way to look at a circuit diagram and tell for certain how populations will behave in response to input. Just make your best guess."
      ]
    },
    {
      "cell_type": "markdown",
      "metadata": {
        "id": "cpC3flGcBC38"
      },
      "source": [
        "### Running code\n",
        "\n",
        "Run the code below to perform a single simulation with baseline parameters and plot the firing rates of the brain region cell populations."
      ]
    },
    {
      "cell_type": "code",
      "execution_count": 10,
      "metadata": {
        "id": "Na-Y7ms3GOYX"
      },
      "outputs": [],
      "source": [
        "# set variables\n",
        "batch_size = 1\n",
        "direct_strength = 1.00\n",
        "indirect_strength = 1.00\n",
        "# note: pathway strengths are in arbitrary units, where 1.0 = baseline"
      ]
    },
    {
      "cell_type": "code",
      "execution_count": 11,
      "metadata": {
        "id": "JIXZybjoGraV"
      },
      "outputs": [],
      "source": [
        "# run the batch\n",
        "runBatch(batch_size, direct_strength, indirect_strength)"
      ]
    },
    {
      "cell_type": "code",
      "execution_count": 12,
      "metadata": {
        "id": "Avqyx144HRnd",
        "colab": {
          "base_uri": "https://localhost:8080/",
          "height": 89
        },
        "outputId": "e383b0da-ffdc-456a-8f57-ac962b5449ad"
      },
      "outputs": [
        {
          "output_type": "execute_result",
          "data": {
            "text/plain": [
              "           rt  accuracy\n",
              "0  248.008942       1.0"
            ],
            "text/html": [
              "\n",
              "  <div id=\"df-850a5ad3-5b58-4181-bd86-64cb81c42725\" class=\"colab-df-container\">\n",
              "    <div>\n",
              "<style scoped>\n",
              "    .dataframe tbody tr th:only-of-type {\n",
              "        vertical-align: middle;\n",
              "    }\n",
              "\n",
              "    .dataframe tbody tr th {\n",
              "        vertical-align: top;\n",
              "    }\n",
              "\n",
              "    .dataframe thead th {\n",
              "        text-align: right;\n",
              "    }\n",
              "</style>\n",
              "<table border=\"1\" class=\"dataframe\">\n",
              "  <thead>\n",
              "    <tr style=\"text-align: right;\">\n",
              "      <th></th>\n",
              "      <th>rt</th>\n",
              "      <th>accuracy</th>\n",
              "    </tr>\n",
              "  </thead>\n",
              "  <tbody>\n",
              "    <tr>\n",
              "      <th>0</th>\n",
              "      <td>248.008942</td>\n",
              "      <td>1.0</td>\n",
              "    </tr>\n",
              "  </tbody>\n",
              "</table>\n",
              "</div>\n",
              "    <div class=\"colab-df-buttons\">\n",
              "\n",
              "  <div class=\"colab-df-container\">\n",
              "    <button class=\"colab-df-convert\" onclick=\"convertToInteractive('df-850a5ad3-5b58-4181-bd86-64cb81c42725')\"\n",
              "            title=\"Convert this dataframe to an interactive table.\"\n",
              "            style=\"display:none;\">\n",
              "\n",
              "  <svg xmlns=\"http://www.w3.org/2000/svg\" height=\"24px\" viewBox=\"0 -960 960 960\">\n",
              "    <path d=\"M120-120v-720h720v720H120Zm60-500h600v-160H180v160Zm220 220h160v-160H400v160Zm0 220h160v-160H400v160ZM180-400h160v-160H180v160Zm440 0h160v-160H620v160ZM180-180h160v-160H180v160Zm440 0h160v-160H620v160Z\"/>\n",
              "  </svg>\n",
              "    </button>\n",
              "\n",
              "  <style>\n",
              "    .colab-df-container {\n",
              "      display:flex;\n",
              "      gap: 12px;\n",
              "    }\n",
              "\n",
              "    .colab-df-convert {\n",
              "      background-color: #E8F0FE;\n",
              "      border: none;\n",
              "      border-radius: 50%;\n",
              "      cursor: pointer;\n",
              "      display: none;\n",
              "      fill: #1967D2;\n",
              "      height: 32px;\n",
              "      padding: 0 0 0 0;\n",
              "      width: 32px;\n",
              "    }\n",
              "\n",
              "    .colab-df-convert:hover {\n",
              "      background-color: #E2EBFA;\n",
              "      box-shadow: 0px 1px 2px rgba(60, 64, 67, 0.3), 0px 1px 3px 1px rgba(60, 64, 67, 0.15);\n",
              "      fill: #174EA6;\n",
              "    }\n",
              "\n",
              "    .colab-df-buttons div {\n",
              "      margin-bottom: 4px;\n",
              "    }\n",
              "\n",
              "    [theme=dark] .colab-df-convert {\n",
              "      background-color: #3B4455;\n",
              "      fill: #D2E3FC;\n",
              "    }\n",
              "\n",
              "    [theme=dark] .colab-df-convert:hover {\n",
              "      background-color: #434B5C;\n",
              "      box-shadow: 0px 1px 3px 1px rgba(0, 0, 0, 0.15);\n",
              "      filter: drop-shadow(0px 1px 2px rgba(0, 0, 0, 0.3));\n",
              "      fill: #FFFFFF;\n",
              "    }\n",
              "  </style>\n",
              "\n",
              "    <script>\n",
              "      const buttonEl =\n",
              "        document.querySelector('#df-850a5ad3-5b58-4181-bd86-64cb81c42725 button.colab-df-convert');\n",
              "      buttonEl.style.display =\n",
              "        google.colab.kernel.accessAllowed ? 'block' : 'none';\n",
              "\n",
              "      async function convertToInteractive(key) {\n",
              "        const element = document.querySelector('#df-850a5ad3-5b58-4181-bd86-64cb81c42725');\n",
              "        const dataTable =\n",
              "          await google.colab.kernel.invokeFunction('convertToInteractive',\n",
              "                                                    [key], {});\n",
              "        if (!dataTable) return;\n",
              "\n",
              "        const docLinkHtml = 'Like what you see? Visit the ' +\n",
              "          '<a target=\"_blank\" href=https://colab.research.google.com/notebooks/data_table.ipynb>data table notebook</a>'\n",
              "          + ' to learn more about interactive tables.';\n",
              "        element.innerHTML = '';\n",
              "        dataTable['output_type'] = 'display_data';\n",
              "        await google.colab.output.renderOutput(dataTable, element);\n",
              "        const docLink = document.createElement('div');\n",
              "        docLink.innerHTML = docLinkHtml;\n",
              "        element.appendChild(docLink);\n",
              "      }\n",
              "    </script>\n",
              "  </div>\n",
              "\n",
              "\n",
              "  <div id=\"id_7c2fb38f-6597-4fa5-9644-6b3a9c5dacb7\">\n",
              "    <style>\n",
              "      .colab-df-generate {\n",
              "        background-color: #E8F0FE;\n",
              "        border: none;\n",
              "        border-radius: 50%;\n",
              "        cursor: pointer;\n",
              "        display: none;\n",
              "        fill: #1967D2;\n",
              "        height: 32px;\n",
              "        padding: 0 0 0 0;\n",
              "        width: 32px;\n",
              "      }\n",
              "\n",
              "      .colab-df-generate:hover {\n",
              "        background-color: #E2EBFA;\n",
              "        box-shadow: 0px 1px 2px rgba(60, 64, 67, 0.3), 0px 1px 3px 1px rgba(60, 64, 67, 0.15);\n",
              "        fill: #174EA6;\n",
              "      }\n",
              "\n",
              "      [theme=dark] .colab-df-generate {\n",
              "        background-color: #3B4455;\n",
              "        fill: #D2E3FC;\n",
              "      }\n",
              "\n",
              "      [theme=dark] .colab-df-generate:hover {\n",
              "        background-color: #434B5C;\n",
              "        box-shadow: 0px 1px 3px 1px rgba(0, 0, 0, 0.15);\n",
              "        filter: drop-shadow(0px 1px 2px rgba(0, 0, 0, 0.3));\n",
              "        fill: #FFFFFF;\n",
              "      }\n",
              "    </style>\n",
              "    <button class=\"colab-df-generate\" onclick=\"generateWithVariable('rt_data')\"\n",
              "            title=\"Generate code using this dataframe.\"\n",
              "            style=\"display:none;\">\n",
              "\n",
              "  <svg xmlns=\"http://www.w3.org/2000/svg\" height=\"24px\"viewBox=\"0 0 24 24\"\n",
              "       width=\"24px\">\n",
              "    <path d=\"M7,19H8.4L18.45,9,17,7.55,7,17.6ZM5,21V16.75L18.45,3.32a2,2,0,0,1,2.83,0l1.4,1.43a1.91,1.91,0,0,1,.58,1.4,1.91,1.91,0,0,1-.58,1.4L9.25,21ZM18.45,9,17,7.55Zm-12,3A5.31,5.31,0,0,0,4.9,8.1,5.31,5.31,0,0,0,1,6.5,5.31,5.31,0,0,0,4.9,4.9,5.31,5.31,0,0,0,6.5,1,5.31,5.31,0,0,0,8.1,4.9,5.31,5.31,0,0,0,12,6.5,5.46,5.46,0,0,0,6.5,12Z\"/>\n",
              "  </svg>\n",
              "    </button>\n",
              "    <script>\n",
              "      (() => {\n",
              "      const buttonEl =\n",
              "        document.querySelector('#id_7c2fb38f-6597-4fa5-9644-6b3a9c5dacb7 button.colab-df-generate');\n",
              "      buttonEl.style.display =\n",
              "        google.colab.kernel.accessAllowed ? 'block' : 'none';\n",
              "\n",
              "      buttonEl.onclick = () => {\n",
              "        google.colab.notebook.generateWithVariable('rt_data');\n",
              "      }\n",
              "      })();\n",
              "    </script>\n",
              "  </div>\n",
              "\n",
              "    </div>\n",
              "  </div>\n"
            ],
            "application/vnd.google.colaboratory.intrinsic+json": {
              "type": "dataframe",
              "variable_name": "rt_data",
              "summary": "{\n  \"name\": \"rt_data\",\n  \"rows\": 1,\n  \"fields\": [\n    {\n      \"column\": \"rt\",\n      \"properties\": {\n        \"dtype\": \"number\",\n        \"std\": null,\n        \"min\": 248.00894165039062,\n        \"max\": 248.00894165039062,\n        \"num_unique_values\": 1,\n        \"samples\": [\n          248.00894165039062\n        ],\n        \"semantic_type\": \"\",\n        \"description\": \"\"\n      }\n    },\n    {\n      \"column\": \"accuracy\",\n      \"properties\": {\n        \"dtype\": \"number\",\n        \"std\": null,\n        \"min\": 1.0,\n        \"max\": 1.0,\n        \"num_unique_values\": 1,\n        \"samples\": [\n          1.0\n        ],\n        \"semantic_type\": \"\",\n        \"description\": \"\"\n      }\n    }\n  ]\n}"
            }
          },
          "metadata": {},
          "execution_count": 12
        }
      ],
      "source": [
        "# produce a dataframe with reaction times and accuracies\n",
        "rt_data = readResults(batch_size)\n",
        "rt_data"
      ]
    },
    {
      "cell_type": "code",
      "execution_count": 13,
      "metadata": {
        "id": "yLDHdLkHRCoC",
        "colab": {
          "base_uri": "https://localhost:8080/",
          "height": 483
        },
        "outputId": "2ff10838-b578-46df-b5af-66db0b7a12a4"
      },
      "outputs": [
        {
          "output_type": "stream",
          "name": "stdout",
          "text": [
            "RT:\t448.01ms\n",
            "Acc:\tCorrect\n",
            "\n"
          ]
        },
        {
          "output_type": "display_data",
          "data": {
            "text/plain": [
              "<Figure size 1200x475 with 8 Axes>"
            ],
            "image/png": "[encoded data removed]"
          },
          "metadata": {}
        }
      ],
      "source": [
        "# plot the first trial from the batch\n",
        "# 'Left' channel is \"correct\"\n",
        "vis.plot_trial_rates(t=0)"
      ]
    },
    {
      "cell_type": "markdown",
      "metadata": {
        "id": "6ru5SWEjSMnI"
      },
      "source": [
        "---\n",
        "### Question 1.2\n",
        "\n",
        "What behavior did the network display? Did it choose the Left or Right action? Was this choice the correct or incorrect action? What was the reaction time? Hint: look at the graph of thalamic activity."
      ]
    },
    {
      "cell_type": "markdown",
      "source": [
        "__Answer:__\n",
        "\n",
        "It displayed the right action. the reaction time was 448.01 ms. This was the correct action"
      ],
      "metadata": {
        "id": "19t2ZSJyU__T"
      }
    },
    {
      "cell_type": "markdown",
      "metadata": {
        "id": "UNqWPJloCBTV"
      },
      "source": [
        "---\n",
        "### Question 1.3\n",
        "\n",
        "Look at the ramping activity in cortex, striatum (dMSN and iMSN), and thalamus. Do the left and right sub-populations change their activity in opposite ways (one ramps up while the other ramps down)? Or do the left and right activities both ramp upwards together?"
      ]
    },
    {
      "cell_type": "markdown",
      "source": [
        "__Answer:__\n",
        "\n",
        "The dMSN and iMSN subpopulations ramp upwards together. The thalalmus, both subpops ramp up but the right side does so more steeply."
      ],
      "metadata": {
        "id": "IuIYeMFuVFk6"
      }
    },
    {
      "cell_type": "markdown",
      "metadata": {
        "id": "eya6cLUGCD8b"
      },
      "source": [
        "---\n",
        "### Question 1.4\n",
        "\n",
        "Looking at the actual firing rates, which populations ramped in which directions? Does this match what you expected?"
      ]
    },
    {
      "cell_type": "markdown",
      "source": [
        "Cortex: both ramped up\n",
        "dMSN: both ramp up\n",
        "iMSN: both ramp up\n",
        "Thalamus: both ramp up\n",
        "FSI: left ramp up (no right)\n",
        "GPe: both ramp down\n",
        "STN: both ramp down\n",
        "GPi: both ramp down"
      ],
      "metadata": {
        "id": "i9x0Qzd0VI_X"
      }
    },
    {
      "cell_type": "markdown",
      "metadata": {
        "id": "uHNC-IpATQb4"
      },
      "source": [
        "## Section 2 - Investigating the effects of direct pathway strength\n",
        "\n",
        "Let's start this next section with some predictions."
      ]
    },
    {
      "cell_type": "markdown",
      "source": [
        "---\n",
        "### Question 2.1:\n",
        "When the strength of the direct pathway is increased, what will happen to the network's average reaction time?  \n",
        "\n",
        "Hint: Reaction time equals the time between the presentation of a stimulus (increased current applied to the cortex) and a decision (thalamic activity crosses a threshold)."
      ],
      "metadata": {
        "id": "BdKPRzrXVNkw"
      }
    },
    {
      "cell_type": "markdown",
      "source": [
        "__Answer:__\n",
        "\n",
        "when you increase the strength of the direct pathway, the average reaction time will decrease. This is because direct pathway is the \"go\" pathway, leading to faster decisions."
      ],
      "metadata": {
        "id": "QQ6T7CgIVZH7"
      }
    },
    {
      "cell_type": "markdown",
      "metadata": {
        "id": "RWxhUc8GG3-W"
      },
      "source": [
        "---\n",
        "### Question 2.2\n",
        "\n",
        "When the strength of the direct pathway is increased, what will happen to the network's decision accuracy?"
      ]
    },
    {
      "cell_type": "markdown",
      "source": [
        "__Answer:__\n",
        "\n",
        "The decision accuracy would not change. This is because both the left and right areas are affected so it would not have an affect on the decision accuracy.\n",
        "\n"
      ],
      "metadata": {
        "id": "6TJxB-DMVet0"
      }
    },
    {
      "cell_type": "markdown",
      "metadata": {
        "id": "owKZmzo2Gzh-"
      },
      "source": [
        "### Let's test  your predictions. First, run the cells below to generate a batch of baseline data for comparison.\n",
        "\n",
        "Note: The reaction time effects should be consistent, but there's a ton of randomness in network accuracy, so unless you run a large batch (like 100) the accuracy values might not be what you'd expect."
      ]
    },
    {
      "cell_type": "code",
      "execution_count": 14,
      "metadata": {
        "id": "AYb_-C5MTpjV"
      },
      "outputs": [],
      "source": [
        "batch_size = 20 # more runs will take more time\n",
        "direct_strength = 1.00\n",
        "indirect_strength = 1.00"
      ]
    },
    {
      "cell_type": "markdown",
      "metadata": {
        "id": "H1NI-AuHijs3"
      },
      "source": [
        "*For me, the code block below took a bit over 2 minutes to run on Colab.*"
      ]
    },
    {
      "cell_type": "code",
      "execution_count": 15,
      "metadata": {
        "id": "aUVjPOzBUHjN",
        "colab": {
          "base_uri": "https://localhost:8080/",
          "height": 677
        },
        "outputId": "a0aa1f22-00a4-4980-92cb-40c841563b1a"
      },
      "outputs": [
        {
          "output_type": "execute_result",
          "data": {
            "text/plain": [
              "            rt  accuracy\n",
              "0   235.008148       1.0\n",
              "1   218.007111       1.0\n",
              "2   239.008392       1.0\n",
              "3   235.008148       1.0\n",
              "4   242.008575       1.0\n",
              "5   263.009857       1.0\n",
              "6   256.009430       1.0\n",
              "7   225.007538       0.0\n",
              "8   232.007965       1.0\n",
              "9   202.006134       1.0\n",
              "10  240.008453       1.0\n",
              "11  218.007111       0.0\n",
              "12  242.008575       0.0\n",
              "13  256.009430       1.0\n",
              "14  244.008698       1.0\n",
              "15  252.009186       1.0\n",
              "16  251.009125       1.0\n",
              "17  226.007599       1.0\n",
              "18  275.010590       1.0\n",
              "19  236.008209       1.0"
            ],
            "text/html": [
              "\n",
              "  <div id=\"df-0258c35e-98d7-4b84-a8c3-236c2acd2ad3\" class=\"colab-df-container\">\n",
              "    <div>\n",
              "<style scoped>\n",
              "    .dataframe tbody tr th:only-of-type {\n",
              "        vertical-align: middle;\n",
              "    }\n",
              "\n",
              "    .dataframe tbody tr th {\n",
              "        vertical-align: top;\n",
              "    }\n",
              "\n",
              "    .dataframe thead th {\n",
              "        text-align: right;\n",
              "    }\n",
              "</style>\n",
              "<table border=\"1\" class=\"dataframe\">\n",
              "  <thead>\n",
              "    <tr style=\"text-align: right;\">\n",
              "      <th></th>\n",
              "      <th>rt</th>\n",
              "      <th>accuracy</th>\n",
              "    </tr>\n",
              "  </thead>\n",
              "  <tbody>\n",
              "    <tr>\n",
              "      <th>0</th>\n",
              "      <td>235.008148</td>\n",
              "      <td>1.0</td>\n",
              "    </tr>\n",
              "    <tr>\n",
              "      <th>1</th>\n",
              "      <td>218.007111</td>\n",
              "      <td>1.0</td>\n",
              "    </tr>\n",
              "    <tr>\n",
              "      <th>2</th>\n",
              "      <td>239.008392</td>\n",
              "      <td>1.0</td>\n",
              "    </tr>\n",
              "    <tr>\n",
              "      <th>3</th>\n",
              "      <td>235.008148</td>\n",
              "      <td>1.0</td>\n",
              "    </tr>\n",
              "    <tr>\n",
              "      <th>4</th>\n",
              "      <td>242.008575</td>\n",
              "      <td>1.0</td>\n",
              "    </tr>\n",
              "    <tr>\n",
              "      <th>5</th>\n",
              "      <td>263.009857</td>\n",
              "      <td>1.0</td>\n",
              "    </tr>\n",
              "    <tr>\n",
              "      <th>6</th>\n",
              "      <td>256.009430</td>\n",
              "      <td>1.0</td>\n",
              "    </tr>\n",
              "    <tr>\n",
              "      <th>7</th>\n",
              "      <td>225.007538</td>\n",
              "      <td>0.0</td>\n",
              "    </tr>\n",
              "    <tr>\n",
              "      <th>8</th>\n",
              "      <td>232.007965</td>\n",
              "      <td>1.0</td>\n",
              "    </tr>\n",
              "    <tr>\n",
              "      <th>9</th>\n",
              "      <td>202.006134</td>\n",
              "      <td>1.0</td>\n",
              "    </tr>\n",
              "    <tr>\n",
              "      <th>10</th>\n",
              "      <td>240.008453</td>\n",
              "      <td>1.0</td>\n",
              "    </tr>\n",
              "    <tr>\n",
              "      <th>11</th>\n",
              "      <td>218.007111</td>\n",
              "      <td>0.0</td>\n",
              "    </tr>\n",
              "    <tr>\n",
              "      <th>12</th>\n",
              "      <td>242.008575</td>\n",
              "      <td>0.0</td>\n",
              "    </tr>\n",
              "    <tr>\n",
              "      <th>13</th>\n",
              "      <td>256.009430</td>\n",
              "      <td>1.0</td>\n",
              "    </tr>\n",
              "    <tr>\n",
              "      <th>14</th>\n",
              "      <td>244.008698</td>\n",
              "      <td>1.0</td>\n",
              "    </tr>\n",
              "    <tr>\n",
              "      <th>15</th>\n",
              "      <td>252.009186</td>\n",
              "      <td>1.0</td>\n",
              "    </tr>\n",
              "    <tr>\n",
              "      <th>16</th>\n",
              "      <td>251.009125</td>\n",
              "      <td>1.0</td>\n",
              "    </tr>\n",
              "    <tr>\n",
              "      <th>17</th>\n",
              "      <td>226.007599</td>\n",
              "      <td>1.0</td>\n",
              "    </tr>\n",
              "    <tr>\n",
              "      <th>18</th>\n",
              "      <td>275.010590</td>\n",
              "      <td>1.0</td>\n",
              "    </tr>\n",
              "    <tr>\n",
              "      <th>19</th>\n",
              "      <td>236.008209</td>\n",
              "      <td>1.0</td>\n",
              "    </tr>\n",
              "  </tbody>\n",
              "</table>\n",
              "</div>\n",
              "    <div class=\"colab-df-buttons\">\n",
              "\n",
              "  <div class=\"colab-df-container\">\n",
              "    <button class=\"colab-df-convert\" onclick=\"convertToInteractive('df-0258c35e-98d7-4b84-a8c3-236c2acd2ad3')\"\n",
              "            title=\"Convert this dataframe to an interactive table.\"\n",
              "            style=\"display:none;\">\n",
              "\n",
              "  <svg xmlns=\"http://www.w3.org/2000/svg\" height=\"24px\" viewBox=\"0 -960 960 960\">\n",
              "    <path d=\"M120-120v-720h720v720H120Zm60-500h600v-160H180v160Zm220 220h160v-160H400v160Zm0 220h160v-160H400v160ZM180-400h160v-160H180v160Zm440 0h160v-160H620v160ZM180-180h160v-160H180v160Zm440 0h160v-160H620v160Z\"/>\n",
              "  </svg>\n",
              "    </button>\n",
              "\n",
              "  <style>\n",
              "    .colab-df-container {\n",
              "      display:flex;\n",
              "      gap: 12px;\n",
              "    }\n",
              "\n",
              "    .colab-df-convert {\n",
              "      background-color: #E8F0FE;\n",
              "      border: none;\n",
              "      border-radius: 50%;\n",
              "      cursor: pointer;\n",
              "      display: none;\n",
              "      fill: #1967D2;\n",
              "      height: 32px;\n",
              "      padding: 0 0 0 0;\n",
              "      width: 32px;\n",
              "    }\n",
              "\n",
              "    .colab-df-convert:hover {\n",
              "      background-color: #E2EBFA;\n",
              "      box-shadow: 0px 1px 2px rgba(60, 64, 67, 0.3), 0px 1px 3px 1px rgba(60, 64, 67, 0.15);\n",
              "      fill: #174EA6;\n",
              "    }\n",
              "\n",
              "    .colab-df-buttons div {\n",
              "      margin-bottom: 4px;\n",
              "    }\n",
              "\n",
              "    [theme=dark] .colab-df-convert {\n",
              "      background-color: #3B4455;\n",
              "      fill: #D2E3FC;\n",
              "    }\n",
              "\n",
              "    [theme=dark] .colab-df-convert:hover {\n",
              "      background-color: #434B5C;\n",
              "      box-shadow: 0px 1px 3px 1px rgba(0, 0, 0, 0.15);\n",
              "      filter: drop-shadow(0px 1px 2px rgba(0, 0, 0, 0.3));\n",
              "      fill: #FFFFFF;\n",
              "    }\n",
              "  </style>\n",
              "\n",
              "    <script>\n",
              "      const buttonEl =\n",
              "        document.querySelector('#df-0258c35e-98d7-4b84-a8c3-236c2acd2ad3 button.colab-df-convert');\n",
              "      buttonEl.style.display =\n",
              "        google.colab.kernel.accessAllowed ? 'block' : 'none';\n",
              "\n",
              "      async function convertToInteractive(key) {\n",
              "        const element = document.querySelector('#df-0258c35e-98d7-4b84-a8c3-236c2acd2ad3');\n",
              "        const dataTable =\n",
              "          await google.colab.kernel.invokeFunction('convertToInteractive',\n",
              "                                                    [key], {});\n",
              "        if (!dataTable) return;\n",
              "\n",
              "        const docLinkHtml = 'Like what you see? Visit the ' +\n",
              "          '<a target=\"_blank\" href=https://colab.research.google.com/notebooks/data_table.ipynb>data table notebook</a>'\n",
              "          + ' to learn more about interactive tables.';\n",
              "        element.innerHTML = '';\n",
              "        dataTable['output_type'] = 'display_data';\n",
              "        await google.colab.output.renderOutput(dataTable, element);\n",
              "        const docLink = document.createElement('div');\n",
              "        docLink.innerHTML = docLinkHtml;\n",
              "        element.appendChild(docLink);\n",
              "      }\n",
              "    </script>\n",
              "  </div>\n",
              "\n",
              "\n",
              "<div id=\"df-269380e3-bc70-4d10-81bf-ea1718a0abfe\">\n",
              "  <button class=\"colab-df-quickchart\" onclick=\"quickchart('df-269380e3-bc70-4d10-81bf-ea1718a0abfe')\"\n",
              "            title=\"Suggest charts\"\n",
              "            style=\"display:none;\">\n",
              "\n",
              "<svg xmlns=\"http://www.w3.org/2000/svg\" height=\"24px\"viewBox=\"0 0 24 24\"\n",
              "     width=\"24px\">\n",
              "    <g>\n",
              "        <path d=\"M19 3H5c-1.1 0-2 .9-2 2v14c0 1.1.9 2 2 2h14c1.1 0 2-.9 2-2V5c0-1.1-.9-2-2-2zM9 17H7v-7h2v7zm4 0h-2V7h2v10zm4 0h-2v-4h2v4z\"/>\n",
              "    </g>\n",
              "</svg>\n",
              "  </button>\n",
              "\n",
              "<style>\n",
              "  .colab-df-quickchart {\n",
              "      --bg-color: #E8F0FE;\n",
              "      --fill-color: #1967D2;\n",
              "      --hover-bg-color: #E2EBFA;\n",
              "      --hover-fill-color: #174EA6;\n",
              "      --disabled-fill-color: #AAA;\n",
              "      --disabled-bg-color: #DDD;\n",
              "  }\n",
              "\n",
              "  [theme=dark] .colab-df-quickchart {\n",
              "      --bg-color: #3B4455;\n",
              "      --fill-color: #D2E3FC;\n",
              "      --hover-bg-color: #434B5C;\n",
              "      --hover-fill-color: #FFFFFF;\n",
              "      --disabled-bg-color: #3B4455;\n",
              "      --disabled-fill-color: #666;\n",
              "  }\n",
              "\n",
              "  .colab-df-quickchart {\n",
              "    background-color: var(--bg-color);\n",
              "    border: none;\n",
              "    border-radius: 50%;\n",
              "    cursor: pointer;\n",
              "    display: none;\n",
              "    fill: var(--fill-color);\n",
              "    height: 32px;\n",
              "    padding: 0;\n",
              "    width: 32px;\n",
              "  }\n",
              "\n",
              "  .colab-df-quickchart:hover {\n",
              "    background-color: var(--hover-bg-color);\n",
              "    box-shadow: 0 1px 2px rgba(60, 64, 67, 0.3), 0 1px 3px 1px rgba(60, 64, 67, 0.15);\n",
              "    fill: var(--button-hover-fill-color);\n",
              "  }\n",
              "\n",
              "  .colab-df-quickchart-complete:disabled,\n",
              "  .colab-df-quickchart-complete:disabled:hover {\n",
              "    background-color: var(--disabled-bg-color);\n",
              "    fill: var(--disabled-fill-color);\n",
              "    box-shadow: none;\n",
              "  }\n",
              "\n",
              "  .colab-df-spinner {\n",
              "    border: 2px solid var(--fill-color);\n",
              "    border-color: transparent;\n",
              "    border-bottom-color: var(--fill-color);\n",
              "    animation:\n",
              "      spin 1s steps(1) infinite;\n",
              "  }\n",
              "\n",
              "  @keyframes spin {\n",
              "    0% {\n",
              "      border-color: transparent;\n",
              "      border-bottom-color: var(--fill-color);\n",
              "      border-left-color: var(--fill-color);\n",
              "    }\n",
              "    20% {\n",
              "      border-color: transparent;\n",
              "      border-left-color: var(--fill-color);\n",
              "      border-top-color: var(--fill-color);\n",
              "    }\n",
              "    30% {\n",
              "      border-color: transparent;\n",
              "      border-left-color: var(--fill-color);\n",
              "      border-top-color: var(--fill-color);\n",
              "      border-right-color: var(--fill-color);\n",
              "    }\n",
              "    40% {\n",
              "      border-color: transparent;\n",
              "      border-right-color: var(--fill-color);\n",
              "      border-top-color: var(--fill-color);\n",
              "    }\n",
              "    60% {\n",
              "      border-color: transparent;\n",
              "      border-right-color: var(--fill-color);\n",
              "    }\n",
              "    80% {\n",
              "      border-color: transparent;\n",
              "      border-right-color: var(--fill-color);\n",
              "      border-bottom-color: var(--fill-color);\n",
              "    }\n",
              "    90% {\n",
              "      border-color: transparent;\n",
              "      border-bottom-color: var(--fill-color);\n",
              "    }\n",
              "  }\n",
              "</style>\n",
              "\n",
              "  <script>\n",
              "    async function quickchart(key) {\n",
              "      const quickchartButtonEl =\n",
              "        document.querySelector('#' + key + ' button');\n",
              "      quickchartButtonEl.disabled = true;  // To prevent multiple clicks.\n",
              "      quickchartButtonEl.classList.add('colab-df-spinner');\n",
              "      try {\n",
              "        const charts = await google.colab.kernel.invokeFunction(\n",
              "            'suggestCharts', [key], {});\n",
              "      } catch (error) {\n",
              "        console.error('Error during call to suggestCharts:', error);\n",
              "      }\n",
              "      quickchartButtonEl.classList.remove('colab-df-spinner');\n",
              "      quickchartButtonEl.classList.add('colab-df-quickchart-complete');\n",
              "    }\n",
              "    (() => {\n",
              "      let quickchartButtonEl =\n",
              "        document.querySelector('#df-269380e3-bc70-4d10-81bf-ea1718a0abfe button');\n",
              "      quickchartButtonEl.style.display =\n",
              "        google.colab.kernel.accessAllowed ? 'block' : 'none';\n",
              "    })();\n",
              "  </script>\n",
              "</div>\n",
              "\n",
              "  <div id=\"id_0de53470-9bf3-4da4-8d31-dc00db8e0406\">\n",
              "    <style>\n",
              "      .colab-df-generate {\n",
              "        background-color: #E8F0FE;\n",
              "        border: none;\n",
              "        border-radius: 50%;\n",
              "        cursor: pointer;\n",
              "        display: none;\n",
              "        fill: #1967D2;\n",
              "        height: 32px;\n",
              "        padding: 0 0 0 0;\n",
              "        width: 32px;\n",
              "      }\n",
              "\n",
              "      .colab-df-generate:hover {\n",
              "        background-color: #E2EBFA;\n",
              "        box-shadow: 0px 1px 2px rgba(60, 64, 67, 0.3), 0px 1px 3px 1px rgba(60, 64, 67, 0.15);\n",
              "        fill: #174EA6;\n",
              "      }\n",
              "\n",
              "      [theme=dark] .colab-df-generate {\n",
              "        background-color: #3B4455;\n",
              "        fill: #D2E3FC;\n",
              "      }\n",
              "\n",
              "      [theme=dark] .colab-df-generate:hover {\n",
              "        background-color: #434B5C;\n",
              "        box-shadow: 0px 1px 3px 1px rgba(0, 0, 0, 0.15);\n",
              "        filter: drop-shadow(0px 1px 2px rgba(0, 0, 0, 0.3));\n",
              "        fill: #FFFFFF;\n",
              "      }\n",
              "    </style>\n",
              "    <button class=\"colab-df-generate\" onclick=\"generateWithVariable('rt_data_baseline')\"\n",
              "            title=\"Generate code using this dataframe.\"\n",
              "            style=\"display:none;\">\n",
              "\n",
              "  <svg xmlns=\"http://www.w3.org/2000/svg\" height=\"24px\"viewBox=\"0 0 24 24\"\n",
              "       width=\"24px\">\n",
              "    <path d=\"M7,19H8.4L18.45,9,17,7.55,7,17.6ZM5,21V16.75L18.45,3.32a2,2,0,0,1,2.83,0l1.4,1.43a1.91,1.91,0,0,1,.58,1.4,1.91,1.91,0,0,1-.58,1.4L9.25,21ZM18.45,9,17,7.55Zm-12,3A5.31,5.31,0,0,0,4.9,8.1,5.31,5.31,0,0,0,1,6.5,5.31,5.31,0,0,0,4.9,4.9,5.31,5.31,0,0,0,6.5,1,5.31,5.31,0,0,0,8.1,4.9,5.31,5.31,0,0,0,12,6.5,5.46,5.46,0,0,0,6.5,12Z\"/>\n",
              "  </svg>\n",
              "    </button>\n",
              "    <script>\n",
              "      (() => {\n",
              "      const buttonEl =\n",
              "        document.querySelector('#id_0de53470-9bf3-4da4-8d31-dc00db8e0406 button.colab-df-generate');\n",
              "      buttonEl.style.display =\n",
              "        google.colab.kernel.accessAllowed ? 'block' : 'none';\n",
              "\n",
              "      buttonEl.onclick = () => {\n",
              "        google.colab.notebook.generateWithVariable('rt_data_baseline');\n",
              "      }\n",
              "      })();\n",
              "    </script>\n",
              "  </div>\n",
              "\n",
              "    </div>\n",
              "  </div>\n"
            ],
            "application/vnd.google.colaboratory.intrinsic+json": {
              "type": "dataframe",
              "variable_name": "rt_data_baseline",
              "summary": "{\n  \"name\": \"rt_data_baseline\",\n  \"rows\": 20,\n  \"fields\": [\n    {\n      \"column\": \"rt\",\n      \"properties\": {\n        \"dtype\": \"number\",\n        \"std\": 17.03127571185149,\n        \"min\": 202.00613403320312,\n        \"max\": 275.0105895996094,\n        \"num_unique_values\": 16,\n        \"samples\": [\n          235.00814819335938,\n          218.00711059570312,\n          256.0094299316406\n        ],\n        \"semantic_type\": \"\",\n        \"description\": \"\"\n      }\n    },\n    {\n      \"column\": \"accuracy\",\n      \"properties\": {\n        \"dtype\": \"number\",\n        \"std\": 0.3663475485325232,\n        \"min\": 0.0,\n        \"max\": 1.0,\n        \"num_unique_values\": 2,\n        \"samples\": [\n          0.0,\n          1.0\n        ],\n        \"semantic_type\": \"\",\n        \"description\": \"\"\n      }\n    }\n  ]\n}"
            }
          },
          "metadata": {},
          "execution_count": 15
        }
      ],
      "source": [
        "# run the batch and produce the dataframe\n",
        "# note: if you receive an error while running the sims, you might have made too large of a parameter change.\n",
        "runBatch(batch_size, direct_strength, indirect_strength)\n",
        "rt_data_baseline = readResults(batch_size)\n",
        "rt_data_baseline # check out the data table"
      ]
    },
    {
      "cell_type": "markdown",
      "metadata": {
        "id": "L1wsZkWkXdYv"
      },
      "source": [
        "### Now, run the code below, where direct_strength is set to 1.10."
      ]
    },
    {
      "cell_type": "code",
      "execution_count": 16,
      "metadata": {
        "id": "j1I9Oa24a9mq"
      },
      "outputs": [],
      "source": [
        "batch_size = 20 # more runs will take more time\n",
        "direct_strength = 1.10\n",
        "indirect_strength = 1.00"
      ]
    },
    {
      "cell_type": "markdown",
      "metadata": {
        "id": "T8PtWDRRiYUu"
      },
      "source": [
        "*For me, the code block below took a bit over 2 minutes to run on Colab.*"
      ]
    },
    {
      "cell_type": "code",
      "execution_count": 17,
      "metadata": {
        "id": "T7qEpispbFSS"
      },
      "outputs": [],
      "source": [
        "# run the batch and produce the dataframe\n",
        "# note: if you receive an error while running the sims, you might have made too large of a parameter change.\n",
        "runBatch(batch_size, direct_strength, indirect_strength)\n",
        "rt_data_direct_up = readResults(batch_size)\n",
        "#rt_data_direct_up"
      ]
    },
    {
      "cell_type": "code",
      "execution_count": 18,
      "metadata": {
        "id": "qQ4R9erXV_cf",
        "colab": {
          "base_uri": "https://localhost:8080/"
        },
        "outputId": "f6473d2a-524d-4483-dab2-2dd8e97b2052"
      },
      "outputs": [
        {
          "output_type": "stream",
          "name": "stdout",
          "text": [
            "Baseline mean values:\n",
            "rt          239.358414\n",
            "accuracy      0.850000\n",
            "dtype: float64\n",
            "\n",
            "Increased direct pathway strength mean values:\n",
            "rt          233.858078\n",
            "accuracy      0.700000\n",
            "dtype: float64\n"
          ]
        }
      ],
      "source": [
        "# calculate and print the mean values for rt and accuracy\n",
        "\n",
        "print('Baseline mean values:')\n",
        "print(rt_data_baseline.mean())\n",
        "print()\n",
        "\n",
        "print('Increased direct pathway strength mean values:')\n",
        "print(rt_data_direct_up.mean())"
      ]
    },
    {
      "cell_type": "code",
      "execution_count": 19,
      "metadata": {
        "id": "JyGNjJgyU3ha",
        "colab": {
          "base_uri": "https://localhost:8080/",
          "height": 486
        },
        "outputId": "63cbd4af-d135-414b-8461-a6b4dc00457f"
      },
      "outputs": [
        {
          "output_type": "execute_result",
          "data": {
            "text/plain": [
              "<matplotlib.legend.Legend at 0x780bbf83f490>"
            ]
          },
          "metadata": {},
          "execution_count": 19
        },
        {
          "output_type": "display_data",
          "data": {
            "text/plain": [
              "<Figure size 640x480 with 1 Axes>"
            ],
            "image/png": "[encoded data removed]"
          },
          "metadata": {}
        }
      ],
      "source": [
        "# plot a histogram of reaction times\n",
        "\n",
        "plt.hist(rt_data_baseline.rt,  bins=np.arange(0,500,20), alpha=0.5, label='baseline')\n",
        "plt.hist(rt_data_direct_up.rt, bins=np.arange(0,500,20), alpha=0.5, label='strong direct')\n",
        "plt.xlabel('Reaction time')\n",
        "plt.ylabel('Frequency')\n",
        "plt.legend(title='distribution')"
      ]
    },
    {
      "cell_type": "markdown",
      "metadata": {
        "id": "ySP7aS-KVMiQ"
      },
      "source": [
        "---\n",
        "### Question 2.3\n",
        "\n",
        "What was the actual relationship between direct pathway strength and reaction time?"
      ]
    },
    {
      "cell_type": "markdown",
      "source": [
        "__Answer:__\n",
        "\n",
        "inversely related, as direct pathway strength increased, reaction time decreased. Whith the strong direct pathway, the reaction time was very frequently at approx 220."
      ],
      "metadata": {
        "id": "q5fAeldUVj-h"
      }
    },
    {
      "cell_type": "markdown",
      "metadata": {
        "id": "hLoBvhkQWxpY"
      },
      "source": [
        "## Section 3: The effects of indirect pathway strength\n",
        "\n",
        "### Question 3.1: Predict effect on reaction time\n",
        "When the strength of the indirect pathway is increased, what will happen to the network's average reaction time?"
      ]
    },
    {
      "cell_type": "markdown",
      "source": [
        "__Answer:__\n",
        "\n",
        "The reaction time should increase becuase the indirect pathway introduces inhibition, slowing down decision making"
      ],
      "metadata": {
        "id": "5aZS6CjIzDc2"
      }
    },
    {
      "cell_type": "markdown",
      "metadata": {
        "id": "P0EW49nFjAm5"
      },
      "source": [
        "---\n",
        "### Question 3.2\n",
        "\n",
        "When the strength of the indirect pathway is increased, what will happen to the network's decision accuracy?"
      ]
    },
    {
      "cell_type": "markdown",
      "source": [
        "__Answer:__\n",
        "\n",
        "The accuracy should increase becuase the indirect pathway inhibits competing actions, slowing down reaction time, resulting in improvement in accuracy."
      ],
      "metadata": {
        "id": "_vN5y0jJVsLJ"
      }
    },
    {
      "cell_type": "markdown",
      "metadata": {
        "id": "ot96OaUlkNcD"
      },
      "source": [
        "### Run the code below, where indirect_strength is set to 1.10 (and direct_strength is set back to 1.00)."
      ]
    },
    {
      "cell_type": "code",
      "execution_count": 20,
      "metadata": {
        "id": "uC0RFdC3XODm"
      },
      "outputs": [],
      "source": [
        "batch_size = 20\n",
        "direct_strength = 1.00\n",
        "indirect_strength = 1.10"
      ]
    },
    {
      "cell_type": "markdown",
      "metadata": {
        "id": "NRPARgwfiBSa"
      },
      "source": [
        "*For me, the code block below took a bit over 2 minutes to run on Colab.*"
      ]
    },
    {
      "cell_type": "code",
      "execution_count": 21,
      "metadata": {
        "id": "S2Iun3-6Y8Vj"
      },
      "outputs": [],
      "source": [
        "runBatch(batch_size, direct_strength, indirect_strength)\n",
        "rt_data_indirect_up = readResults(batch_size)\n",
        "#rt_data_indirect_up"
      ]
    },
    {
      "cell_type": "code",
      "execution_count": 22,
      "metadata": {
        "id": "mdO6WsECZImz",
        "colab": {
          "base_uri": "https://localhost:8080/"
        },
        "outputId": "2237c8ac-f5f2-49a6-9ec0-640d8413bad1"
      },
      "outputs": [
        {
          "output_type": "stream",
          "name": "stdout",
          "text": [
            "Baseline mean values:\n",
            "rt          239.358414\n",
            "accuracy      0.850000\n",
            "dtype: float64\n",
            "\n",
            "Increased indirect pathway strength mean values:\n",
            "rt          242.90863\n",
            "accuracy      0.85000\n",
            "dtype: float64\n"
          ]
        }
      ],
      "source": [
        "# calculate and print the mean values for rt and accuracy\n",
        "\n",
        "print('Baseline mean values:')\n",
        "print(rt_data_baseline.mean())\n",
        "print()\n",
        "\n",
        "print('Increased indirect pathway strength mean values:')\n",
        "print(rt_data_indirect_up.mean())"
      ]
    },
    {
      "cell_type": "code",
      "execution_count": 23,
      "metadata": {
        "id": "DZeeEvhcZJMP",
        "colab": {
          "base_uri": "https://localhost:8080/",
          "height": 486
        },
        "outputId": "e903bb73-caab-4bf6-83f8-5532281e5967"
      },
      "outputs": [
        {
          "output_type": "execute_result",
          "data": {
            "text/plain": [
              "<matplotlib.legend.Legend at 0x780b846aabc0>"
            ]
          },
          "metadata": {},
          "execution_count": 23
        },
        {
          "output_type": "display_data",
          "data": {
            "text/plain": [
              "<Figure size 640x480 with 1 Axes>"
            ],
            "image/png": "[encoded data removed]"
          },
          "metadata": {}
        }
      ],
      "source": [
        "# plot a histogram of reaction times\n",
        "\n",
        "plt.hist(rt_data_baseline.rt,  bins=np.arange(0,500,20), alpha=0.5, label='baseline')\n",
        "plt.hist(rt_data_indirect_up.rt, bins=np.arange(0,500,20), alpha=0.5, label='strong indirect')\n",
        "plt.xlabel('Reaction time')\n",
        "plt.ylabel('Frequency')\n",
        "plt.legend(title='distribution')"
      ]
    },
    {
      "cell_type": "markdown",
      "metadata": {
        "id": "2eLHz4FHY3iW"
      },
      "source": [
        "---\n",
        "### Question 3.3\n",
        "\n",
        "What was the actual relationship between indirect pathway strength and reaction time?"
      ]
    },
    {
      "cell_type": "markdown",
      "source": [
        "__Answer:__\n",
        "\n",
        "increasing strength of indirect pathway leads to longer reaction times overall (increased freq of slower reaction times) compared to the baseline. This follows my predictions.  "
      ],
      "metadata": {
        "id": "-YSF5wsNVu0V"
      }
    },
    {
      "cell_type": "markdown",
      "source": [
        "\n",
        "---\n",
        "**IMPORTANT** Did you collaborate with anyone on this assignment, or use LLMs like ChatGPT? If so, list their names here.\n",
        "> *Write Name(s) here*\n",
        "Destiny Lee"
      ],
      "metadata": {
        "id": "WSftCYEgJR3a"
      }
    }
  ],
  "metadata": {
    "colab": {
      "provenance": [],
      "toc_visible": true,
      "include_colab_link": true
    },
    "kernelspec": {
      "display_name": "Python 3 (ipykernel)",
      "language": "python",
      "name": "python3"
    },
    "language_info": {
      "codemirror_mode": {
        "name": "ipython",
        "version": 3
      },
      "file_extension": ".py",
      "mimetype": "text/x-python",
      "name": "python",
      "nbconvert_exporter": "python",
      "pygments_lexer": "ipython3",
      "version": "3.8.3"
    }
  },
  "nbformat": 4,
  "nbformat_minor": 0
}